{
  "nbformat": 4,
  "nbformat_minor": 0,
  "metadata": {
    "colab": {
      "provenance": [],
      "collapsed_sections": [],
      "include_colab_link": true
    },
    "kernelspec": {
      "name": "python3",
      "display_name": "Python 3"
    }
  },
  "cells": [
    {
      "cell_type": "markdown",
      "metadata": {
        "id": "view-in-github",
        "colab_type": "text"
      },
      "source": [
        "<a href=\"https://colab.research.google.com/github/bozhikov/SHE/blob/main/%D0%92%D0%B5%D1%80%D0%B8%D0%B3%D0%B0_%D0%BD%D0%B0_%D1%80%D0%B0%D0%B7%D0%BF%D0%B0%D0%B4_ML.ipynb\" target=\"_parent\"><img src=\"https://colab.research.google.com/assets/colab-badge.svg\" alt=\"Open In Colab\"/></a>"
      ]
    },
    {
      "cell_type": "code",
      "metadata": {
        "id": "9sCU-oz_v-dE"
      },
      "source": [
        " #%matplotlib inline\n",
        "#import scipy as sp\n",
        "#import matplotlib as mpl\n",
        "#import matplotlib.cm as cm\n",
        "#import matplotlib.pyplot as plt\n",
        "#from mpl_toolkits.mplot3d import Axes3D\n",
        "import numpy as np\n",
        "import pandas as pd\n",
        "from sklearn.model_selection import train_test_split\n",
        "from sklearn import svm\n",
        "from sklearn.linear_model import LogisticRegression\n",
        "from sklearn import metrics"
      ],
      "execution_count": 1,
      "outputs": []
    },
    {
      "cell_type": "code",
      "metadata": {
        "id": "53-GsCLW2vEe"
      },
      "source": [],
      "execution_count": null,
      "outputs": []
    },
    {
      "cell_type": "code",
      "metadata": {
        "id": "mTuxGQlq2vVb"
      },
      "source": [],
      "execution_count": null,
      "outputs": []
    },
    {
      "cell_type": "code",
      "metadata": {
        "id": "CQJ0WZqw2vps"
      },
      "source": [],
      "execution_count": null,
      "outputs": []
    },
    {
      "cell_type": "code",
      "metadata": {
        "id": "LVItzswm2v0U"
      },
      "source": [],
      "execution_count": null,
      "outputs": []
    },
    {
      "cell_type": "code",
      "metadata": {
        "id": "Ni01_gFz2wD7"
      },
      "source": [],
      "execution_count": null,
      "outputs": []
    },
    {
      "cell_type": "code",
      "metadata": {
        "id": "UMtyWsKOSKvL"
      },
      "source": [
        "NUM_TRAINING_RECORDS = 1000000\n",
        "FIRST_CHAIN_PORTION = int(50 * NUM_TRAINING_RECORDS / 100)\n",
        "SECOND_CHAIN_PORTION = int(35 * NUM_TRAINING_RECORDS / 100)\n",
        "THIRD_CHAIN_PORTION = int(15 * NUM_TRAINING_RECORDS / 100)\n",
        "TYPE1 = 'Type 1'\n",
        "TYPE2 = 'Type 2'\n",
        "TYPE3 = 'Type 3'\n",
        "ENERGY_BIAS = 12000 #eV\n",
        "CHANNEL_RESOLUTION = 6000\n",
        "FACTOR = 10**6\n",
        "# F - Type 1\n",
        "# S - Type 2\n",
        "# T - Type 3\n",
        "TAU_F = 75.02014212 * FACTOR # μs - microseconds\n",
        "TAU_S = 75.02014212 * FACTOR # μs - microseconds\n",
        "TAU_T = 231.11974555 * FACTOR # μs - microseconds\n",
        "E1_F = 5.6535 * FACTOR # eV\n",
        "E2_F = 5.036 * FACTOR # eV\n",
        "E1_S = 5.372 * FACTOR # eV\n",
        "E2_S = 5.036 * FACTOR # eV\n",
        "E1_T = 5.09415 * FACTOR # eV\n",
        "E2_T = 4.8435 * FACTOR # eV"
      ],
      "execution_count": null,
      "outputs": []
    },
    {
      "cell_type": "code",
      "metadata": {
        "id": "ceC5N6isa3o-"
      },
      "source": [
        "class Chain:\n",
        "  def __init__(self, Type, portion, e1, e2,  tau):\n",
        "    self.TYPE = Type;\n",
        "    self.PORTION = portion\n",
        "    self.E1 = e1\n",
        "    self.E2 = e2\n",
        "    self.TAU = tau\n",
        "  def generate_data(self):\n",
        "    self.e1_gaus = np.random.normal(self.E1, 1, self.PORTION)\n",
        "    self.e2_gaus  = np.random.normal(self.E2, 1, self.PORTION)\n",
        "    self.tau_pois = np.random.poisson(self.TAU, self.PORTION)\n",
        "    return self.e1_gaus, self.e2_gaus, self.tau_pois\n"
      ],
      "execution_count": 3,
      "outputs": []
    },
    {
      "cell_type": "code",
      "metadata": {
        "id": "Oulbh9sVWHXC",
        "colab": {
          "base_uri": "https://localhost:8080/",
          "height": 130
        },
        "outputId": "86b79f4c-9556-4b17-98ce-e5161a3ac43e"
      },
      "source": [
        "chains = [Chain(TYPE1, FIRST_CHAIN_PORTION, E1_F, E2_F, TAU_F), Chain(TYPE2, SECOND_CHAIN_PORTION, E1_S, E2_S, TAU_S), Chain(TYPE3, THIRD_CHAIN_PORTION, E1_T, E2_T, TAU_T)]\n",
        "data = {\n",
        "  'Type': [],\n",
        "  'E1': [],\n",
        "  'E2': [],\n",
        "  'TAU': []\n",
        "}\n",
        "\n",
        "for chain in chains:\n",
        "  tmp = chain.generate_data()\n",
        "  # print(tmp)\n",
        "  data['Type'] = np.append(data['Type'], [chain.TYPE] * len(tmp[0]))\n",
        "  data['E1'] = np.append(data['E1'], tmp[0])\n",
        "  data['E2'] = np.append(data['E2'], tmp[1])\n",
        "  data['TAU'] = np.append(data['TAU'], tmp[2])\n",
        "\n",
        "for col in data:\n",
        "  data[col] = data[col].flatten()\n",
        "\n",
        "data = pd.DataFrame(data)\n",
        "data.head()"
      ],
      "execution_count": 5,
      "outputs": [
        {
          "output_type": "error",
          "ename": "SyntaxError",
          "evalue": "ignored",
          "traceback": [
            "\u001b[0;36m  File \u001b[0;32m\"<ipython-input-5-6a22a536ec2a>\"\u001b[0;36m, line \u001b[0;32m1\u001b[0m\n\u001b[0;31m    chains = [Chain(TYPE 1, FIRST_CHAIN_PORTION, E1_F, E2_F, TAU_F), Chain(TYPE2, SECOND_CHAIN_PORTION, E1_S, E2_S, TAU_S), Chain(TYPE3, THIRD_CHAIN_PORTION, E1_T, E2_T, TAU_T)]\u001b[0m\n\u001b[0m                         ^\u001b[0m\n\u001b[0;31mSyntaxError\u001b[0m\u001b[0;31m:\u001b[0m invalid syntax\n"
          ]
        }
      ]
    },
    {
      "cell_type": "code",
      "metadata": {
        "id": "BA31pIZ4oxqs",
        "colab": {
          "base_uri": "https://localhost:8080/",
          "height": 34
        },
        "outputId": "7cbb49a9-9b4e-40bd-dc25-1eae0491d247"
      },
      "source": [
        "train, test = train_test_split(data, test_size=0.2)\n",
        "print(len(train), len(test))\n",
        "X_train = train.iloc[:, 1:4].values\n",
        "y_train = train.iloc[:, 0:1].values.ravel()\n",
        "X_test = test.iloc[:, 1:4].values\n",
        "y_test = test.iloc[:, 0:1].values.ravel()"
      ],
      "execution_count": null,
      "outputs": [
        {
          "output_type": "stream",
          "text": [
            "800000 200000\n"
          ],
          "name": "stdout"
        }
      ]
    },
    {
      "cell_type": "code",
      "metadata": {
        "id": "wvBjuIk4pTo0"
      },
      "source": [
        "model = svm.SVC(kernel='rbf', C=1E10, gamma=10, class_weight='balanced', probability=True, cache_size=7000) #try rbf (with scaling for faster computation, otherwise it would take forever)?\n",
        "from sklearn.preprocessing import MinMaxScaler\n",
        "scaling = MinMaxScaler(feature_range=(-1,1)).fit(X_train)\n",
        "X_train = scaling.transform(X_train)\n",
        "X_test = scaling.transform(X_test)\n",
        "model.fit(X_train, y_train)\n",
        "y_pred = model.predict(X_test)\n",
        "#model = LogisticRegression()"
      ],
      "execution_count": null,
      "outputs": []
    },
    {
      "cell_type": "code",
      "metadata": {
        "id": "wkBvGRAP12WS",
        "colab": {
          "base_uri": "https://localhost:8080/",
          "height": 51
        },
        "outputId": "298d5805-9e73-4e30-dce9-183ace2921b2"
      },
      "source": [
        "print(y_pred)\n",
        "print(model.score(X_test, y_test))"
      ],
      "execution_count": null,
      "outputs": [
        {
          "output_type": "stream",
          "text": [
            "['Type 1' 'Type 2' 'Type 3' ... 'Type 1' 'Type 1' 'Type 2']\n",
            "1.0\n"
          ],
          "name": "stdout"
        }
      ]
    },
    {
      "cell_type": "code",
      "metadata": {
        "id": "Wz_W3vsTbYMj",
        "colab": {
          "base_uri": "https://localhost:8080/",
          "height": 68
        },
        "outputId": "0c87867b-e687-44cf-d164-5c75bfa6cfd6"
      },
      "source": [
        "# Model Accuracy: how often is the classifier correct?\n",
        "print('Accuracy: ', metrics.accuracy_score(y_test, y_pred))\n",
        "# Model Precision: what percentage of positive tuples are labeled as such?\n",
        "print('Precision: ', metrics.precision_score(y_test, y_pred, average='weighted'))\n",
        "# Model Recall: what percentage of positive tuples are labelled as such?\n",
        "print('Recall: ', metrics.recall_score(y_test, y_pred, average='weighted'))"
      ],
      "execution_count": null,
      "outputs": [
        {
          "output_type": "stream",
          "text": [
            "Accuracy:  1.0\n",
            "Precision:  1.0\n",
            "Recall:  1.0\n"
          ],
          "name": "stdout"
        }
      ]
    },
    {
      "cell_type": "code",
      "metadata": {
        "id": "BECuroMJ1P79",
        "colab": {
          "base_uri": "https://localhost:8080/",
          "height": 68
        },
        "outputId": "e2483781-7403-47ee-f5cc-ea46465883a6"
      },
      "source": [
        "print(metrics.confusion_matrix(y_test,y_pred))"
      ],
      "execution_count": null,
      "outputs": [
        {
          "output_type": "stream",
          "text": [
            "[[100000      0      0]\n",
            " [     0  70025      0]\n",
            " [     0      0  29975]]\n"
          ],
          "name": "stdout"
        }
      ]
    },
    {
      "cell_type": "code",
      "metadata": {
        "id": "fKrgHzsV1RTt",
        "colab": {
          "base_uri": "https://localhost:8080/",
          "height": 187
        },
        "outputId": "664dcbac-d656-41d2-9539-4c48b3d6180d"
      },
      "source": [
        "print(metrics.classification_report(y_test,y_pred))"
      ],
      "execution_count": null,
      "outputs": [
        {
          "output_type": "stream",
          "text": [
            "              precision    recall  f1-score   support\n",
            "\n",
            "      Type 1       1.00      1.00      1.00    100000\n",
            "      Type 2       1.00      1.00      1.00     70025\n",
            "      Type 3       1.00      1.00      1.00     29975\n",
            "\n",
            "    accuracy                           1.00    200000\n",
            "   macro avg       1.00      1.00      1.00    200000\n",
            "weighted avg       1.00      1.00      1.00    200000\n",
            "\n"
          ],
          "name": "stdout"
        }
      ]
    },
    {
      "cell_type": "code",
      "metadata": {
        "id": "6OmIeHauqFlE"
      },
      "source": [
        "def get_type(value):\n",
        "  for key in range_type.keys():\n",
        "    if value >= key[0] and value <= key[1]:\n",
        "      return range_type[key]\n",
        "  return None\n",
        "\n",
        "def in_range(value, range):\n",
        "  return value >= range[0] and value <= range[1]\n",
        "\n",
        "def valid_value(value):\n",
        "  for r in range_by_type.values():\n",
        "    e1_range = r[0]\n",
        "    e2_range = r[1]\n",
        "    if (value >= e1_range[0] and value <= e1_range[1]) \\\n",
        "        or (value >= e2_range[0] and value <= e2_range[1]):\n",
        "        return True\n",
        "  return False\n",
        "\n",
        "def values_in_range(values):\n",
        "  result = []\n",
        "  for value in values:\n",
        "    result.append(valid_value(value))\n",
        "  return result"
      ],
      "execution_count": null,
      "outputs": []
    },
    {
      "cell_type": "code",
      "metadata": {
        "id": "63N3R0Odv_n6",
        "colab": {
          "base_uri": "https://localhost:8080/",
          "height": 204
        },
        "outputId": "704aa9dc-0d72-428f-bdc9-f441b040cddf"
      },
      "source": [
        "records = pd.read_csv(\"https://alpha-decays.s3.us-east-2.amazonaws.com/caam2013newf_14.csv\", sep=\"\\t\")\n",
        "records.head()"
      ],
      "execution_count": null,
      "outputs": [
        {
          "output_type": "execute_result",
          "data": {
            "text/html": [
              "<div>\n",
              "<style scoped>\n",
              "    .dataframe tbody tr th:only-of-type {\n",
              "        vertical-align: middle;\n",
              "    }\n",
              "\n",
              "    .dataframe tbody tr th {\n",
              "        vertical-align: top;\n",
              "    }\n",
              "\n",
              "    .dataframe thead th {\n",
              "        text-align: right;\n",
              "    }\n",
              "</style>\n",
              "<table border=\"1\" class=\"dataframe\">\n",
              "  <thead>\n",
              "    <tr style=\"text-align: right;\">\n",
              "      <th></th>\n",
              "      <th>currid</th>\n",
              "      <th>strip</th>\n",
              "      <th>Ea-chanel</th>\n",
              "      <th>Ef-chanel</th>\n",
              "      <th>Timemicsec</th>\n",
              "    </tr>\n",
              "  </thead>\n",
              "  <tbody>\n",
              "    <tr>\n",
              "      <th>0</th>\n",
              "      <td>2</td>\n",
              "      <td>1</td>\n",
              "      <td>913</td>\n",
              "      <td>86</td>\n",
              "      <td>208745.0</td>\n",
              "    </tr>\n",
              "    <tr>\n",
              "      <th>1</th>\n",
              "      <td>2</td>\n",
              "      <td>6</td>\n",
              "      <td>907</td>\n",
              "      <td>85</td>\n",
              "      <td>219673.0</td>\n",
              "    </tr>\n",
              "    <tr>\n",
              "      <th>2</th>\n",
              "      <td>2</td>\n",
              "      <td>0</td>\n",
              "      <td>888</td>\n",
              "      <td>84</td>\n",
              "      <td>231612.0</td>\n",
              "    </tr>\n",
              "    <tr>\n",
              "      <th>3</th>\n",
              "      <td>2</td>\n",
              "      <td>0</td>\n",
              "      <td>1106</td>\n",
              "      <td>103</td>\n",
              "      <td>241377.0</td>\n",
              "    </tr>\n",
              "    <tr>\n",
              "      <th>4</th>\n",
              "      <td>2</td>\n",
              "      <td>0</td>\n",
              "      <td>1170</td>\n",
              "      <td>109</td>\n",
              "      <td>242430.0</td>\n",
              "    </tr>\n",
              "  </tbody>\n",
              "</table>\n",
              "</div>"
            ],
            "text/plain": [
              "   currid  strip  Ea-chanel  Ef-chanel  Timemicsec\n",
              "0       2      1        913         86    208745.0\n",
              "1       2      6        907         85    219673.0\n",
              "2       2      0        888         84    231612.0\n",
              "3       2      0       1106        103    241377.0\n",
              "4       2      0       1170        109    242430.0"
            ]
          },
          "metadata": {
            "tags": []
          },
          "execution_count": 12
        }
      ]
    },
    {
      "cell_type": "code",
      "metadata": {
        "id": "Gt8TRnVt6miE",
        "colab": {
          "base_uri": "https://localhost:8080/",
          "height": 51
        },
        "outputId": "2d6935d9-279e-4419-e2ff-34115872183c"
      },
      "source": [
        "for index, row in records.iterrows():\n",
        "  candidates = []\n",
        "  print(index)\n",
        "  for index2, row2 in records.iterrows():\n",
        "    e1 = row['Ea-chanel'] * CHANNEL_RESOLUTION * FACTOR # Channel to energy (eV)\n",
        "    e2 = row2['Ea-chanel'] * CHANNEL_RESOLUTION * FACTOR # We can go the opposite way and work with channels instead\n",
        "    t1_pois = np.random.poisson(row['Timemicsec'], 1000)\n",
        "    tau = row2['Timemicsec'] - row['Timemicsec']\n",
        "    if row['currid'] == row2['currid'] and row['strip'] < row2['strip'] and row['Timemicsec'] < row2['Timemicsec'] and tau in t1_pois: #there should be more checks\n",
        "      print('found candidate!')\n",
        "      candidates.append([e1, e2, tau]) # we could also save the indexes\n",
        "  for candidate in candidates:\n",
        "    # here we got to pick the best candidate\n",
        "    # test here with +- 12 000 eV energy values?\n",
        "    print(candidate)\n",
        "    print(model.predict([candidate])[0]) # Type X\n",
        "    print(sum(model.predict_proba([candidate])[0])) # 0 to 1?. With small datasets predict_proba gives incorrect probabilities. Alternative is model.decision_function to check how confident the model is for the prediction"
      ],
      "execution_count": null,
      "outputs": [
        {
          "output_type": "stream",
          "text": [
            "0\n",
            "found candidate!\n"
          ],
          "name": "stdout"
        }
      ]
    },
    {
      "cell_type": "markdown",
      "metadata": {
        "id": "98uHxclF_-xf"
      },
      "source": [
        "Потенциални проблеми:\n",
        "1. Отклонението на енергията -+ 12 000 eV не се взима предвид при обучение на модела \n",
        "2. При тестване на модела, точността му е 100%\n",
        "3. Всички разпознати вериги са от тип '1'\n",
        "\n"
      ]
    }
  ]
}