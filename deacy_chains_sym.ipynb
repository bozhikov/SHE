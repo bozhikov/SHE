{
  "nbformat": 4,
  "nbformat_minor": 0,
  "metadata": {
    "colab": {
      "provenance": [],
      "authorship_tag": "ABX9TyPpQaiLlmEAqTcw4r5xk+VG",
      "include_colab_link": true
    },
    "kernelspec": {
      "name": "python3",
      "display_name": "Python 3"
    },
    "language_info": {
      "name": "python"
    }
  },
  "cells": [
    {
      "cell_type": "markdown",
      "metadata": {
        "id": "view-in-github",
        "colab_type": "text"
      },
      "source": [
        "<a href=\"https://colab.research.google.com/github/bozhikov/SHE/blob/main/deacy_chains_sym.ipynb\" target=\"_parent\"><img src=\"https://colab.research.google.com/assets/colab-badge.svg\" alt=\"Open In Colab\"/></a>"
      ]
    },
    {
      "cell_type": "code",
      "execution_count": 1,
      "metadata": {
        "id": "4foFjTu9aQdS"
      },
      "outputs": [],
      "source": [
        "%matplotlib inline\n",
        "import numpy as np\n",
        "import pandas as pd\n",
        "import matplotlib.pyplot as plt"
      ]
    },
    {
      "cell_type": "code",
      "source": [
        " #%matplotlib inline\n",
        "#import scipy as sp\n",
        "#import matplotlib as mpl\n",
        "#import matplotlib.cm as cm\n",
        "#import matplotlib.pyplot as plt\n",
        "#from mpl_toolkits.mplot3d import Axes3D\n",
        "import numpy as np\n",
        "import pandas as pd\n",
        "from sklearn.model_selection import train_test_split\n",
        "from sklearn import svm\n",
        "from sklearn.linear_model import LogisticRegression\n",
        "from sklearn import metrics"
      ],
      "metadata": {
        "id": "HcKU4ATCNJNS"
      },
      "execution_count": 2,
      "outputs": []
    },
    {
      "cell_type": "code",
      "source": [
        "tau_pois_Hg = np.random.poisson(74, 100000)\n",
        "tau_pois_Pt_1 = np.random.poisson(75, 100000)\n",
        "tau_pois_Pt_final=tau_pois_Hg+tau_pois_Pt_1\n",
        "tau_pois_Hg"
      ],
      "metadata": {
        "colab": {
          "base_uri": "https://localhost:8080/"
        },
        "id": "0_ApuY4rbL8k",
        "outputId": "6fb93463-5f22-4209-e1d8-e6694f2059ec"
      },
      "execution_count": 99,
      "outputs": [
        {
          "output_type": "execute_result",
          "data": {
            "text/plain": [
              "array([78, 89, 82, ..., 86, 68, 84])"
            ]
          },
          "metadata": {},
          "execution_count": 99
        }
      ]
    },
    {
      "cell_type": "code",
      "source": [
        "tau_pois_Hg"
      ],
      "metadata": {
        "colab": {
          "base_uri": "https://localhost:8080/"
        },
        "id": "6MDmRs6ghxYl",
        "outputId": "ea0708e4-8537-4514-b027-96c84b8485c9"
      },
      "execution_count": 101,
      "outputs": [
        {
          "output_type": "execute_result",
          "data": {
            "text/plain": [
              "array([78, 89, 82, ..., 86, 68, 84])"
            ]
          },
          "metadata": {},
          "execution_count": 101
        }
      ]
    },
    {
      "cell_type": "code",
      "source": [
        "def decays(time):\n",
        " nuclide=len(tau_pois_Hg)\n",
        " for time in range(time+1): \n",
        "   for index in range(len(tau_pois_Hg)):\n",
        "   \n",
        "    if  time==tau_pois_Hg[index]:\n",
        "        nuclide=nuclide-1\n",
        "        #return nuclide\n",
        "    #else:\n",
        " return nuclide\n",
        "        #print(nuclide)\n",
        "   "
      ],
      "metadata": {
        "id": "5W0hSd2_b02r"
      },
      "execution_count": 83,
      "outputs": []
    },
    {
      "cell_type": "code",
      "source": [
        "decays(85)"
      ],
      "metadata": {
        "colab": {
          "base_uri": "https://localhost:8080/"
        },
        "id": "MuzPh_sLnitX",
        "outputId": "841322c5-d1f9-43c4-a654-25fec288d88e"
      },
      "execution_count": 28,
      "outputs": [
        {
          "output_type": "execute_result",
          "data": {
            "text/plain": [
              "0"
            ]
          },
          "metadata": {},
          "execution_count": 28
        }
      ]
    },
    {
      "cell_type": "code",
      "source": [
        "time= np.linspace(0,100,100)\n",
        "nuclide_yeld_Hg=np.zeros(len(time))\n",
        "for time in range(len(time)):\n",
        "  nuclide_yeld_Hg[time]=decays(time)\n",
        "  "
      ],
      "metadata": {
        "id": "ir2BiArrCUJ0"
      },
      "execution_count": 84,
      "outputs": []
    },
    {
      "cell_type": "code",
      "source": [
        "nuclide_yeld_Hg"
      ],
      "metadata": {
        "colab": {
          "base_uri": "https://localhost:8080/"
        },
        "id": "MHLACd4vZHF9",
        "outputId": "c2dc4060-b000-4df5-ce51-d195b49d5f5d"
      },
      "execution_count": 85,
      "outputs": [
        {
          "output_type": "execute_result",
          "data": {
            "text/plain": [
              "array([100000., 100000., 100000., 100000., 100000., 100000., 100000.,\n",
              "       100000., 100000., 100000., 100000., 100000., 100000., 100000.,\n",
              "       100000., 100000., 100000., 100000., 100000., 100000., 100000.,\n",
              "       100000., 100000., 100000., 100000., 100000., 100000., 100000.,\n",
              "       100000., 100000., 100000., 100000., 100000., 100000., 100000.,\n",
              "       100000., 100000., 100000., 100000.,  99999.,  99998.,  99998.,\n",
              "        99998.,  99996.,  99992.,  99982.,  99968.,  99946.,  99907.,\n",
              "        99871.,  99809.,  99705.,  99576.,  99366.,  99068.,  98682.,\n",
              "        98182.,  97537.,  96726.,  95708.,  94470.,  92963.,  91063.,\n",
              "        88899.,  86339.,  83505.,  80370.,  76886.,  73117.,  69110.,\n",
              "        64918.,  60466.,  55981.,  51289.,  46631.,  41971.,  37537.,\n",
              "        33291.,  29247.,  25519.,  22024.,  18846.,  15993.,  13376.,\n",
              "        11104.,   9113.,   7491.,   6064.,   4739.,   3767.,   2930.,\n",
              "         2275.,   1772.,   1355.,   1041.,    792.,    604.,    453.,\n",
              "          347.,    244.])"
            ]
          },
          "metadata": {},
          "execution_count": 85
        }
      ]
    },
    {
      "cell_type": "code",
      "source": [
        "time_d=np.linspace(0,100,100)\n",
        "time_d"
      ],
      "metadata": {
        "colab": {
          "base_uri": "https://localhost:8080/"
        },
        "id": "POEaqxAcbIdN",
        "outputId": "0df06d5e-82c9-4233-b69f-a1a5c7e312b6"
      },
      "execution_count": 69,
      "outputs": [
        {
          "output_type": "execute_result",
          "data": {
            "text/plain": [
              "array([  0.        ,   1.01010101,   2.02020202,   3.03030303,\n",
              "         4.04040404,   5.05050505,   6.06060606,   7.07070707,\n",
              "         8.08080808,   9.09090909,  10.1010101 ,  11.11111111,\n",
              "        12.12121212,  13.13131313,  14.14141414,  15.15151515,\n",
              "        16.16161616,  17.17171717,  18.18181818,  19.19191919,\n",
              "        20.2020202 ,  21.21212121,  22.22222222,  23.23232323,\n",
              "        24.24242424,  25.25252525,  26.26262626,  27.27272727,\n",
              "        28.28282828,  29.29292929,  30.3030303 ,  31.31313131,\n",
              "        32.32323232,  33.33333333,  34.34343434,  35.35353535,\n",
              "        36.36363636,  37.37373737,  38.38383838,  39.39393939,\n",
              "        40.4040404 ,  41.41414141,  42.42424242,  43.43434343,\n",
              "        44.44444444,  45.45454545,  46.46464646,  47.47474747,\n",
              "        48.48484848,  49.49494949,  50.50505051,  51.51515152,\n",
              "        52.52525253,  53.53535354,  54.54545455,  55.55555556,\n",
              "        56.56565657,  57.57575758,  58.58585859,  59.5959596 ,\n",
              "        60.60606061,  61.61616162,  62.62626263,  63.63636364,\n",
              "        64.64646465,  65.65656566,  66.66666667,  67.67676768,\n",
              "        68.68686869,  69.6969697 ,  70.70707071,  71.71717172,\n",
              "        72.72727273,  73.73737374,  74.74747475,  75.75757576,\n",
              "        76.76767677,  77.77777778,  78.78787879,  79.7979798 ,\n",
              "        80.80808081,  81.81818182,  82.82828283,  83.83838384,\n",
              "        84.84848485,  85.85858586,  86.86868687,  87.87878788,\n",
              "        88.88888889,  89.8989899 ,  90.90909091,  91.91919192,\n",
              "        92.92929293,  93.93939394,  94.94949495,  95.95959596,\n",
              "        96.96969697,  97.97979798,  98.98989899, 100.        ])"
            ]
          },
          "metadata": {},
          "execution_count": 69
        }
      ]
    },
    {
      "cell_type": "code",
      "source": [
        "def Ocummulat(time):\n",
        " nuclide_pt= len(tau_pois_Hg)-nuclide_yeld_Hg[time]\n",
        " for time in range(time+1): \n",
        "   for index in range(len(tau_pois_Pt_1)):\n",
        "   \n",
        "    if  time==tau_pois_Pt_1[index]:\n",
        "         nuclide_pt= nuclide_pt-1\n",
        "        #return nuclide\n",
        "    #else:\n",
        " return  nuclide_pt\n",
        "        #print(nuclide)"
      ],
      "metadata": {
        "id": "0M5mk3Rnc45k"
      },
      "execution_count": 87,
      "outputs": []
    },
    {
      "cell_type": "code",
      "source": [
        "time= np.linspace(0,100,100)\n",
        "nuclide_yeld_pt=np.zeros(len(time))\n",
        "for time in range(len(time)):\n",
        " nuclide_yeld_pt[time]=Ocummulat(time)"
      ],
      "metadata": {
        "id": "m2JOnBYhQsMh"
      },
      "execution_count": 88,
      "outputs": []
    },
    {
      "cell_type": "code",
      "source": [
        "nuclide_yeld_pt.min()"
      ],
      "metadata": {
        "colab": {
          "base_uri": "https://localhost:8080/"
        },
        "id": "tAkg0yf2Xpuo",
        "outputId": "751b0ea5-155f-4064-ace1-c56a49541928"
      },
      "execution_count": 92,
      "outputs": [
        {
          "output_type": "execute_result",
          "data": {
            "text/plain": [
              "0.0"
            ]
          },
          "metadata": {},
          "execution_count": 92
        }
      ]
    },
    {
      "cell_type": "code",
      "source": [
        "nuclide_yeld_Hg"
      ],
      "metadata": {
        "colab": {
          "base_uri": "https://localhost:8080/"
        },
        "id": "N7KagB7rdjKW",
        "outputId": "e30a84ed-197e-4ffa-b86d-9107f80d464a"
      },
      "execution_count": 90,
      "outputs": [
        {
          "output_type": "execute_result",
          "data": {
            "text/plain": [
              "array([100000., 100000., 100000., 100000., 100000., 100000., 100000.,\n",
              "       100000., 100000., 100000., 100000., 100000., 100000., 100000.,\n",
              "       100000., 100000., 100000., 100000., 100000., 100000., 100000.,\n",
              "       100000., 100000., 100000., 100000., 100000., 100000., 100000.,\n",
              "       100000., 100000., 100000., 100000., 100000., 100000., 100000.,\n",
              "       100000., 100000., 100000., 100000.,  99999.,  99998.,  99998.,\n",
              "        99998.,  99996.,  99992.,  99982.,  99968.,  99946.,  99907.,\n",
              "        99871.,  99809.,  99705.,  99576.,  99366.,  99068.,  98682.,\n",
              "        98182.,  97537.,  96726.,  95708.,  94470.,  92963.,  91063.,\n",
              "        88899.,  86339.,  83505.,  80370.,  76886.,  73117.,  69110.,\n",
              "        64918.,  60466.,  55981.,  51289.,  46631.,  41971.,  37537.,\n",
              "        33291.,  29247.,  25519.,  22024.,  18846.,  15993.,  13376.,\n",
              "        11104.,   9113.,   7491.,   6064.,   4739.,   3767.,   2930.,\n",
              "         2275.,   1772.,   1355.,   1041.,    792.,    604.,    453.,\n",
              "          347.,    244.])"
            ]
          },
          "metadata": {},
          "execution_count": 90
        }
      ]
    },
    {
      "cell_type": "code",
      "source": [
        "plt.plot(time_d,  nuclide_yeld,linewidth=2, label='decay Hg_178')\n",
        "plt.plot(time_d,nuclide_yeld_pt,linewidth=4, label='decay Pt_178')"
      ],
      "metadata": {
        "colab": {
          "base_uri": "https://localhost:8080/",
          "height": 447
        },
        "id": "po0OJ_-ydC_b",
        "outputId": "d9022656-33c8-4996-b981-c481ae8965fd"
      },
      "execution_count": 89,
      "outputs": [
        {
          "output_type": "execute_result",
          "data": {
            "text/plain": [
              "[<matplotlib.lines.Line2D at 0x7fc217314700>]"
            ]
          },
          "metadata": {},
          "execution_count": 89
        },
        {
          "output_type": "display_data",
          "data": {
            "text/plain": [
              "<Figure size 640x480 with 1 Axes>"
            ],
            "image/png": "[encoded data removed]"
          },
          "metadata": {}
        }
      ]
    },
    {
      "cell_type": "code",
      "source": [
        "tau_pois_Hg"
      ],
      "metadata": {
        "colab": {
          "base_uri": "https://localhost:8080/"
        },
        "id": "QB8fsEJCqIn4",
        "outputId": "bcf7980b-e1da-4ec9-ca47-1056ebad0ffe"
      },
      "execution_count": 103,
      "outputs": [
        {
          "output_type": "execute_result",
          "data": {
            "text/plain": [
              "array([64, 82, 83, 68, 78, 70, 61, 80, 51, 79])"
            ]
          },
          "metadata": {},
          "execution_count": 103
        }
      ]
    },
    {
      "cell_type": "markdown",
      "source": [
        "Machine learning decays chains"
      ],
      "metadata": {
        "id": "izGHSd4AMhZQ"
      }
    },
    {
      "cell_type": "code",
      "source": [],
      "metadata": {
        "id": "KFTOv7XcPXQJ"
      },
      "execution_count": null,
      "outputs": []
    },
    {
      "cell_type": "code",
      "source": [
        "NUM_TRAINING_RECORDS = 1000000\n",
        "FIRST_CHAIN_PORTION = int(50 * NUM_TRAINING_RECORDS / 100)\n",
        "SECOND_CHAIN_PORTION = int(35 * NUM_TRAINING_RECORDS / 100)\n",
        "THIRD_CHAIN_PORTION = int(15 * NUM_TRAINING_RECORDS / 100)\n",
        "TYPE1 = 'Type 1'\n",
        "TYPE2 = 'Type 2'\n",
        "TYPE3 = 'Type 3'\n",
        "ENERGY_BIAS = 120000 #eV\n",
        "CHANNEL_RESOLUTION = 6000\n",
        "FACTOR = 10**6\n",
        "# F - Type 1 17\n",
        "# S - Type 2\n",
        "# T - Type 3\n",
        "TAU_F = 0.9041* FACTOR # μs - microseconds 178Hg lifetime-174Pt\n",
        "TAU_S = 3.5057 * FACTOR # μs - microseconds 179Hg lifetime-175Pt\n",
        "TAU_T = 9.0889 * FACTOR # μs - microseconds 180Hg lifetime 176Pt\n",
        "E1_F =  6.430* FACTOR # eV\n",
        "E2_F = 6.038 * FACTOR # eV\n",
        "E1_S = 6.340 * FACTOR # eV\n",
        "E2_S = 5.948 * FACTOR # eV\n",
        "E1_T = 6.120 * FACTOR # eV\n",
        "E2_T = 5.753 * FACTOR # eV"
      ],
      "metadata": {
        "id": "mKxFDePwdwkZ"
      },
      "execution_count": 18,
      "outputs": []
    },
    {
      "cell_type": "code",
      "source": [
        "class Chain:\n",
        "  def __init__(self, Type, portion, e1, e2,  tau):\n",
        "    self.TYPE = Type;\n",
        "    self.PORTION = portion\n",
        "    self.E1 = e1\n",
        "    self.E2 = e2\n",
        "    self.TAU = tau\n",
        "  def generate_data(self):\n",
        "    self.e1_gaus = np.random.normal(self.E1, ENERGY_BIAS, self.PORTION)\n",
        "    self.e2_gaus  = np.random.normal(self.E2, ENERGY_BIAS, self.PORTION)\n",
        "    self.tau_pois = np.random.poisson(self.TAU, self.PORTION)\n",
        "    return self.e1_gaus, self.e2_gaus, self.tau_pois"
      ],
      "metadata": {
        "id": "YjfiNUfgM6p8"
      },
      "execution_count": 19,
      "outputs": []
    },
    {
      "cell_type": "code",
      "source": [
        "chains = [Chain(TYPE1, FIRST_CHAIN_PORTION, E1_F, E2_F, TAU_F), Chain(TYPE2, SECOND_CHAIN_PORTION, E1_S, E2_S, TAU_S), Chain(TYPE3, THIRD_CHAIN_PORTION, E1_T, E2_T, TAU_T)]\n",
        "data = {\n",
        "  'Type': [],\n",
        "  'E1': [],\n",
        "  'E2': [],\n",
        "  'TAU': []\n",
        "}\n",
        "\n",
        "for chain in chains:\n",
        "  tmp = chain.generate_data()\n",
        "  # print(tmp)\n",
        "  data['Type'] = np.append(data['Type'], [chain.TYPE] * len(tmp[0]))\n",
        "  data['E1'] = np.append(data['E1'], tmp[0])\n",
        "  data['E2'] = np.append(data['E2'], tmp[1])\n",
        "  data['TAU'] = np.append(data['TAU'], tmp[2])\n",
        "\n",
        "for col in data:\n",
        "  data[col] = data[col].flatten()\n",
        "\n",
        "data = pd.DataFrame(data)\n",
        "data.head()"
      ],
      "metadata": {
        "colab": {
          "base_uri": "https://localhost:8080/",
          "height": 206
        },
        "id": "iP_-14X6M8Qy",
        "outputId": "c01c8853-79f6-4de9-a98d-69d70fa40478"
      },
      "execution_count": 20,
      "outputs": [
        {
          "output_type": "execute_result",
          "data": {
            "text/plain": [
              "     Type            E1            E2       TAU\n",
              "0  Type 1  6.529299e+06  5.984141e+06  904552.0\n",
              "1  Type 1  6.360783e+06  5.806854e+06  903610.0\n",
              "2  Type 1  6.496619e+06  6.245873e+06  904460.0\n",
              "3  Type 1  6.550647e+06  6.150609e+06  903638.0\n",
              "4  Type 1  6.452584e+06  6.094779e+06  905220.0"
            ],
            "text/html": [
              "\n",
              "  <div id=\"df-d1b0be4f-72f1-4c93-af16-8c4c3fb1454b\">\n",
              "    <div class=\"colab-df-container\">\n",
              "      <div>\n",
              "<style scoped>\n",
              "    .dataframe tbody tr th:only-of-type {\n",
              "        vertical-align: middle;\n",
              "    }\n",
              "\n",
              "    .dataframe tbody tr th {\n",
              "        vertical-align: top;\n",
              "    }\n",
              "\n",
              "    .dataframe thead th {\n",
              "        text-align: right;\n",
              "    }\n",
              "</style>\n",
              "<table border=\"1\" class=\"dataframe\">\n",
              "  <thead>\n",
              "    <tr style=\"text-align: right;\">\n",
              "      <th></th>\n",
              "      <th>Type</th>\n",
              "      <th>E1</th>\n",
              "      <th>E2</th>\n",
              "      <th>TAU</th>\n",
              "    </tr>\n",
              "  </thead>\n",
              "  <tbody>\n",
              "    <tr>\n",
              "      <th>0</th>\n",
              "      <td>Type 1</td>\n",
              "      <td>6.529299e+06</td>\n",
              "      <td>5.984141e+06</td>\n",
              "      <td>904552.0</td>\n",
              "    </tr>\n",
              "    <tr>\n",
              "      <th>1</th>\n",
              "      <td>Type 1</td>\n",
              "      <td>6.360783e+06</td>\n",
              "      <td>5.806854e+06</td>\n",
              "      <td>903610.0</td>\n",
              "    </tr>\n",
              "    <tr>\n",
              "      <th>2</th>\n",
              "      <td>Type 1</td>\n",
              "      <td>6.496619e+06</td>\n",
              "      <td>6.245873e+06</td>\n",
              "      <td>904460.0</td>\n",
              "    </tr>\n",
              "    <tr>\n",
              "      <th>3</th>\n",
              "      <td>Type 1</td>\n",
              "      <td>6.550647e+06</td>\n",
              "      <td>6.150609e+06</td>\n",
              "      <td>903638.0</td>\n",
              "    </tr>\n",
              "    <tr>\n",
              "      <th>4</th>\n",
              "      <td>Type 1</td>\n",
              "      <td>6.452584e+06</td>\n",
              "      <td>6.094779e+06</td>\n",
              "      <td>905220.0</td>\n",
              "    </tr>\n",
              "  </tbody>\n",
              "</table>\n",
              "</div>\n",
              "      <button class=\"colab-df-convert\" onclick=\"convertToInteractive('df-d1b0be4f-72f1-4c93-af16-8c4c3fb1454b')\"\n",
              "              title=\"Convert this dataframe to an interactive table.\"\n",
              "              style=\"display:none;\">\n",
              "        \n",
              "  <svg xmlns=\"http://www.w3.org/2000/svg\" height=\"24px\"viewBox=\"0 0 24 24\"\n",
              "       width=\"24px\">\n",
              "    <path d=\"M0 0h24v24H0V0z\" fill=\"none\"/>\n",
              "    <path d=\"M18.56 5.44l.94 2.06.94-2.06 2.06-.94-2.06-.94-.94-2.06-.94 2.06-2.06.94zm-11 1L8.5 8.5l.94-2.06 2.06-.94-2.06-.94L8.5 2.5l-.94 2.06-2.06.94zm10 10l.94 2.06.94-2.06 2.06-.94-2.06-.94-.94-2.06-.94 2.06-2.06.94z\"/><path d=\"M17.41 7.96l-1.37-1.37c-.4-.4-.92-.59-1.43-.59-.52 0-1.04.2-1.43.59L10.3 9.45l-7.72 7.72c-.78.78-.78 2.05 0 2.83L4 21.41c.39.39.9.59 1.41.59.51 0 1.02-.2 1.41-.59l7.78-7.78 2.81-2.81c.8-.78.8-2.07 0-2.86zM5.41 20L4 18.59l7.72-7.72 1.47 1.35L5.41 20z\"/>\n",
              "  </svg>\n",
              "      </button>\n",
              "      \n",
              "  <style>\n",
              "    .colab-df-container {\n",
              "      display:flex;\n",
              "      flex-wrap:wrap;\n",
              "      gap: 12px;\n",
              "    }\n",
              "\n",
              "    .colab-df-convert {\n",
              "      background-color: #E8F0FE;\n",
              "      border: none;\n",
              "      border-radius: 50%;\n",
              "      cursor: pointer;\n",
              "      display: none;\n",
              "      fill: #1967D2;\n",
              "      height: 32px;\n",
              "      padding: 0 0 0 0;\n",
              "      width: 32px;\n",
              "    }\n",
              "\n",
              "    .colab-df-convert:hover {\n",
              "      background-color: #E2EBFA;\n",
              "      box-shadow: 0px 1px 2px rgba(60, 64, 67, 0.3), 0px 1px 3px 1px rgba(60, 64, 67, 0.15);\n",
              "      fill: #174EA6;\n",
              "    }\n",
              "\n",
              "    [theme=dark] .colab-df-convert {\n",
              "      background-color: #3B4455;\n",
              "      fill: #D2E3FC;\n",
              "    }\n",
              "\n",
              "    [theme=dark] .colab-df-convert:hover {\n",
              "      background-color: #434B5C;\n",
              "      box-shadow: 0px 1px 3px 1px rgba(0, 0, 0, 0.15);\n",
              "      filter: drop-shadow(0px 1px 2px rgba(0, 0, 0, 0.3));\n",
              "      fill: #FFFFFF;\n",
              "    }\n",
              "  </style>\n",
              "\n",
              "      <script>\n",
              "        const buttonEl =\n",
              "          document.querySelector('#df-d1b0be4f-72f1-4c93-af16-8c4c3fb1454b button.colab-df-convert');\n",
              "        buttonEl.style.display =\n",
              "          google.colab.kernel.accessAllowed ? 'block' : 'none';\n",
              "\n",
              "        async function convertToInteractive(key) {\n",
              "          const element = document.querySelector('#df-d1b0be4f-72f1-4c93-af16-8c4c3fb1454b');\n",
              "          const dataTable =\n",
              "            await google.colab.kernel.invokeFunction('convertToInteractive',\n",
              "                                                     [key], {});\n",
              "          if (!dataTable) return;\n",
              "\n",
              "          const docLinkHtml = 'Like what you see? Visit the ' +\n",
              "            '<a target=\"_blank\" href=https://colab.research.google.com/notebooks/data_table.ipynb>data table notebook</a>'\n",
              "            + ' to learn more about interactive tables.';\n",
              "          element.innerHTML = '';\n",
              "          dataTable['output_type'] = 'display_data';\n",
              "          await google.colab.output.renderOutput(dataTable, element);\n",
              "          const docLink = document.createElement('div');\n",
              "          docLink.innerHTML = docLinkHtml;\n",
              "          element.appendChild(docLink);\n",
              "        }\n",
              "      </script>\n",
              "    </div>\n",
              "  </div>\n",
              "  "
            ]
          },
          "metadata": {},
          "execution_count": 20
        }
      ]
    },
    {
      "cell_type": "code",
      "source": [],
      "metadata": {
        "id": "Czj3uCS3N_p6"
      },
      "execution_count": null,
      "outputs": []
    },
    {
      "cell_type": "code",
      "source": [
        "train, test = train_test_split(data, test_size=0.2)\n",
        "print(len(train), len(test))\n",
        "X_train = train.iloc[:, 1:4].values\n",
        "y_train = train.iloc[:, 0:1].values.ravel()\n",
        "X_test = test.iloc[:, 1:4].values\n",
        "y_test = test.iloc[:, 0:1].values.ravel()"
      ],
      "metadata": {
        "colab": {
          "base_uri": "https://localhost:8080/"
        },
        "id": "EtBIuLCZOAeR",
        "outputId": "a5af3a9d-05a4-4bea-9726-1385ba249a79"
      },
      "execution_count": 21,
      "outputs": [
        {
          "output_type": "stream",
          "name": "stdout",
          "text": [
            "800000 200000\n"
          ]
        }
      ]
    },
    {
      "cell_type": "code",
      "source": [
        "model = svm.SVC(kernel='rbf', C=1E10, gamma=10, class_weight='balanced', probability=True, cache_size=7000) #try rbf (with scaling for faster computation, otherwise it would take forever)?\n",
        "from sklearn.preprocessing import MinMaxScaler\n",
        "scaling = MinMaxScaler(feature_range=(-1,1)).fit(X_train)\n",
        "X_train = scaling.transform(X_train)\n",
        "X_test = scaling.transform(X_test)\n",
        "model.fit(X_train, y_train)\n",
        "y_pred = model.predict(X_test)\n",
        "#model = LogisticRegression()"
      ],
      "metadata": {
        "id": "CKGl8-kXOXV0"
      },
      "execution_count": null,
      "outputs": []
    },
    {
      "cell_type": "code",
      "source": [],
      "metadata": {
        "id": "iPBs_-0wOZCy"
      },
      "execution_count": null,
      "outputs": []
    },
    {
      "cell_type": "code",
      "source": [
        "# Model Accuracy: how often is the classifier correct?\n",
        "print('Accuracy: ', metrics.accuracy_score(y_test, y_pred))\n",
        "# Model Precision: what percentage of positive tuples are labeled as such?\n",
        "print('Precision: ', metrics.precision_score(y_test, y_pred, average='weighted'))\n",
        "# Model Recall: what percentage of positive tuples are labelled as such?\n",
        "print('Recall: ', metrics.recall_score(y_test, y_pred, average='weighted'))"
      ],
      "metadata": {
        "colab": {
          "base_uri": "https://localhost:8080/"
        },
        "id": "UrIqNRQ5OgtS",
        "outputId": "2e8dcad4-b714-427f-f685-668c38a35bc8"
      },
      "execution_count": 16,
      "outputs": [
        {
          "output_type": "stream",
          "name": "stdout",
          "text": [
            "Accuracy:  1.0\n",
            "Precision:  1.0\n",
            "Recall:  1.0\n"
          ]
        }
      ]
    },
    {
      "cell_type": "code",
      "source": [],
      "metadata": {
        "id": "SrjO-M3qOo_K"
      },
      "execution_count": null,
      "outputs": []
    },
    {
      "cell_type": "code",
      "source": [
        "print(metrics.confusion_matrix(y_test,y_pred))"
      ],
      "metadata": {
        "colab": {
          "base_uri": "https://localhost:8080/"
        },
        "id": "PQsvf3JxOqvT",
        "outputId": "3d8eda8c-1d80-4193-c3b9-0bf7c578cff4"
      },
      "execution_count": 17,
      "outputs": [
        {
          "output_type": "stream",
          "name": "stdout",
          "text": [
            "[[99965     0     0]\n",
            " [    0 70029     0]\n",
            " [    0     0 30006]]\n"
          ]
        }
      ]
    },
    {
      "cell_type": "code",
      "source": [],
      "metadata": {
        "id": "mALr4DfmOr8E"
      },
      "execution_count": null,
      "outputs": []
    },
    {
      "cell_type": "code",
      "source": [
        "print(metrics.classification_report(y_test,y_pred))"
      ],
      "metadata": {
        "id": "ibbBEXGNOsyM"
      },
      "execution_count": null,
      "outputs": []
    },
    {
      "cell_type": "code",
      "source": [],
      "metadata": {
        "id": "hyWoSrkhOzF6"
      },
      "execution_count": null,
      "outputs": []
    },
    {
      "cell_type": "code",
      "source": [
        "def get_type(value):\n",
        "  for key in range_type.keys():\n",
        "    if value >= key[0] and value <= key[1]:\n",
        "      return range_type[key]\n",
        "  return None\n",
        "\n",
        "def in_range(value, range):\n",
        "  return value >= range[0] and value <= range[1]\n",
        "\n",
        "def valid_value(value):\n",
        "  for r in range_by_type.values():\n",
        "    e1_range = r[0]\n",
        "    e2_range = r[1]\n",
        "    if (value >= e1_range[0] and value <= e1_range[1]) \\\n",
        "        or (value >= e2_range[0] and value <= e2_range[1]):\n",
        "        return True\n",
        "  return False\n",
        "\n",
        "def values_in_range(values):\n",
        "  result = []\n",
        "  for value in values:\n",
        "    result.append(valid_value(value))\n",
        "  return result"
      ],
      "metadata": {
        "id": "jFXwa-aWOzPB"
      },
      "execution_count": null,
      "outputs": []
    },
    {
      "cell_type": "code",
      "source": [
        "records = pd.read_csv(\"https://alpha-decays.s3.us-east-2.amazonaws.com/caam2013newf_14.csv\", sep=\"\\t\")\n",
        "records.head()"
      ],
      "metadata": {
        "id": "2m_-R2ynO_a7"
      },
      "execution_count": null,
      "outputs": []
    },
    {
      "cell_type": "code",
      "source": [
        "for index, row in records.iterrows():\n",
        "  candidates = []\n",
        "  print(index)\n",
        "  for index2, row2 in records.iterrows():\n",
        "    e1 = row['Ea-chanel'] * CHANNEL_RESOLUTION * FACTOR # Channel to energy (eV)\n",
        "    e2 = row2['Ea-chanel'] * CHANNEL_RESOLUTION * FACTOR # We can go the opposite way and work with channels instead\n",
        "    t1_pois = np.random.poisson(row['Timemicsec'], 1000)\n",
        "    tau = row2['Timemicsec'] - row['Timemicsec']\n",
        "    if row['currid'] == row2['currid'] and row['strip'] < row2['strip'] and row['Timemicsec'] < row2['Timemicsec'] and tau in t1_pois: #there should be more checks\n",
        "      print('found candidate!')\n",
        "      candidates.append([e1, e2, tau]) # we could also save the indexes\n",
        "  for candidate in candidates:\n",
        "    # here we got to pick the best candidate\n",
        "    # test here with +- 12 000 eV energy values?\n",
        "    print(candidate)\n",
        "    print(model.predict([candidate])[0]) # Type X\n",
        "    print(sum(model.predict_proba([candidate])[0])) # 0 to 1?. With small datasets predict_proba gives incorrect probabilities. Alternative is model.decision_function to check how confident the model is for the prediction"
      ],
      "metadata": {
        "id": "NQsJhL9UPGsC"
      },
      "execution_count": null,
      "outputs": []
    }
  ]
}