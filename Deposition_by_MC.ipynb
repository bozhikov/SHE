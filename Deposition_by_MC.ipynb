{
  "nbformat": 4,
  "nbformat_minor": 0,
  "metadata": {
    "colab": {
      "provenance": [],
      "authorship_tag": "ABX9TyNOLNdVhtavMf40Zk9ToTSO",
      "include_colab_link": true
    },
    "kernelspec": {
      "name": "python3",
      "display_name": "Python 3"
    },
    "language_info": {
      "name": "python"
    }
  },
  "cells": [
    {
      "cell_type": "markdown",
      "metadata": {
        "id": "view-in-github",
        "colab_type": "text"
      },
      "source": [
        "<a href=\"https://colab.research.google.com/github/bozhikov/SHE/blob/main/Deposition_by_MC.ipynb\" target=\"_parent\"><img src=\"https://colab.research.google.com/assets/colab-badge.svg\" alt=\"Open In Colab\"/></a>"
      ]
    },
    {
      "cell_type": "code",
      "execution_count": 44,
      "metadata": {
        "id": "G_1-OvBWBsv4"
      },
      "outputs": [],
      "source": [
        "class MC_depos_pattern():\n",
        "  \n",
        "  Q,temp,p,S,p00,DHa,Mg1,Mg2,M_iso,ro1,ro2,ro_iso=[],[],[],[],[],[],[],[],[],[],[],[]\n",
        "  import numpy as np\n",
        "  from matplotlib import pyplot as plt\n",
        "  def __init__(self,t_half):\n",
        "   self.t_half=t_half\n",
        "   \n",
        "   G=Q*(self.temp/298.15)*101325/self.p    # {corrected flow}\n",
        "   Ui= G/(3.14*(0.5*self.S)^2)       #      {linear gas velocity, m/s}\n",
        "   tm = self.p00 * np.exp(-self.DHa/(8.31447*self.temp))\n",
        "   D298_Mg1=0.0043*298.15^(3/2)*(1/(self.Mg1)+1/(self.M_iso))^(1/2)/((self.p/101325)*((self.self.Mg1/self.ro1)^(1/3)+(self.M_iso/self.ro_iso)^(1/3))^2)\n",
        "   D298_Mg2=0.0043*298.15^(3/2)*(1/(self.Mg2)+1/(self.M_iso))^(1/2)/((self.p/101325)*((self.self.Mg2/self.ro2)^(1/3)+(self.M_iso/self.ro_iso)^(1/3))^2)\n",
        "   D298_mix=0.6*D298_Mg1+0.4* D298_Mg2\n",
        "   D_t=D298_mix*(self.temp/298.15)^1.75/10000\n",
        "   vi = ((0.5*self.S)/G) * (8 * 8.314 * self.temp /(3.14*self.M_iso/1000))^(1/2) #  {n° collisions per unit lenght\n",
        "   Ri = (1/Ui)/((1/Ui)+(vi*tm))      #  {ratio: residence time in the gas phase / overall residence time}\n",
        "   Nm = (3.14*(0.5*self.S)^2*D_t/G)+(11-(16*Ri)+(6*Ri*Ri))*(G/(24*3.14*D_t)) # {Nm = average jump length, m}\n"
      ]
    },
    {
      "cell_type": "code",
      "source": [],
      "metadata": {
        "id": "FJFvH7knMGV7"
      },
      "execution_count": null,
      "outputs": []
    },
    {
      "cell_type": "code",
      "source": [
        "import numpy as np\n",
        "output= np.random.poisson(0.5, 100)\n",
        "from matplotlib import pyplot as plt\n",
        "count, bins, ignored = plt.hist( output, 3)\n",
        "plt.show()\n"
      ],
      "metadata": {
        "colab": {
          "base_uri": "https://localhost:8080/",
          "height": 265
        },
        "id": "6YPA0MmAvwgG",
        "outputId": "3e5530ee-c23c-48ae-aece-3b351e003658"
      },
      "execution_count": 7,
      "outputs": [
        {
          "output_type": "display_data",
          "data": {
            "text/plain": [
              "<Figure size 432x288 with 1 Axes>"
            ],
            "image/png": "[encoded data removed]"
          },
          "metadata": {
            "needs_background": "light"
          }
        }
      ]
    },
    {
      "cell_type": "code",
      "source": [
        "y=np.mean(output)\n",
        "y"
      ],
      "metadata": {
        "colab": {
          "base_uri": "https://localhost:8080/"
        },
        "id": "kzxRYMs70qtL",
        "outputId": "512842d6-80b0-4f64-c3f0-a90a06a77d26"
      },
      "execution_count": 22,
      "outputs": [
        {
          "output_type": "execute_result",
          "data": {
            "text/plain": [
              "0.47"
            ]
          },
          "metadata": {},
          "execution_count": 22
        }
      ]
    },
    {
      "cell_type": "code",
      "source": [
        "output"
      ],
      "metadata": {
        "colab": {
          "base_uri": "https://localhost:8080/"
        },
        "id": "DyKHllRdeLfM",
        "outputId": "2a73250f-1dac-4400-8801-fc407ae90d5c"
      },
      "execution_count": 23,
      "outputs": [
        {
          "output_type": "execute_result",
          "data": {
            "text/plain": [
              "array([1, 0, 1, 0, 0, 1, 0, 1, 0, 0, 0, 0, 0, 1, 0, 0, 0, 0, 1, 1, 0, 0,\n",
              "       0, 0, 1, 0, 3, 0, 0, 0, 0, 2, 1, 2, 1, 0, 0, 1, 1, 2, 0, 0, 1, 0,\n",
              "       0, 0, 0, 0, 2, 1, 0, 0, 0, 0, 0, 0, 1, 1, 0, 1, 0, 1, 0, 1, 0, 1,\n",
              "       0, 0, 1, 1, 1, 0, 1, 0, 1, 1, 0, 1, 0, 0, 1, 1, 0, 0, 0, 0, 1, 0,\n",
              "       1, 0, 0, 1, 0, 0, 0, 1, 2, 1, 0, 0])"
            ]
          },
          "metadata": {},
          "execution_count": 23
        }
      ]
    },
    {
      "cell_type": "code",
      "source": [
        "class Nuclei_track:\n",
        "  t=[]\n",
        "  import numpy as np\n",
        "  def __iter__(self):\n",
        "    self.a = 0\n",
        "    \n",
        "    return self\n",
        "\n",
        "  def __next__(self):\n",
        "    if self.a <= self.t:\n",
        "      x = self.a\n",
        "      b=np.random.poisson(0.2,1)\n",
        "      self.a = self.a + b[0]\n",
        "      return b[0]\n",
        "    else:\n",
        "      raise StopIteration\n",
        "\n",
        "#myclass = MyNumbers()\n",
        "\n",
        "#myiter = iter(myclass)\n",
        "\n",
        "#for x in myiter:\n"
      ],
      "metadata": {
        "id": "L5RyyvmI9yF2"
      },
      "execution_count": 29,
      "outputs": []
    },
    {
      "cell_type": "code",
      "source": [
        "\n",
        "a=5\n",
        "Nuclei_track.t=a\n"
      ],
      "metadata": {
        "id": "D1dhDEQL0H7x"
      },
      "execution_count": 24,
      "outputs": []
    },
    {
      "cell_type": "code",
      "source": [
        "track = Nuclei_track()\n",
        "m=iter(track)"
      ],
      "metadata": {
        "id": "rxAPo0whcAUF"
      },
      "execution_count": 31,
      "outputs": []
    },
    {
      "cell_type": "code",
      "source": [
        "c=[]\n",
        "\n",
        "for ii in m:\n",
        "  print((ii))"
      ],
      "metadata": {
        "colab": {
          "base_uri": "https://localhost:8080/"
        },
        "id": "MxKucc_RjMQD",
        "outputId": "f5fd94d5-c734-4ef1-910b-149b2f4baedb"
      },
      "execution_count": 40,
      "outputs": [
        {
          "output_type": "stream",
          "name": "stdout",
          "text": [
            "0\n",
            "0\n",
            "0\n",
            "0\n",
            "1\n",
            "1\n",
            "1\n",
            "1\n",
            "1\n",
            "1\n",
            "1\n",
            "1\n",
            "1\n",
            "1\n",
            "3\n",
            "3\n",
            "3\n",
            "3\n",
            "3\n",
            "4\n",
            "4\n",
            "5\n",
            "5\n"
          ]
        }
      ]
    },
    {
      "cell_type": "code",
      "source": [
        "c=np.ndarray(1,dtype=int)\n",
        "\n",
        "c"
      ],
      "metadata": {
        "colab": {
          "base_uri": "https://localhost:8080/"
        },
        "id": "sRznfed1fud8",
        "outputId": "a4f79597-3d06-40aa-a583-fd2e5638bc44"
      },
      "execution_count": 66,
      "outputs": [
        {
          "output_type": "execute_result",
          "data": {
            "text/plain": [
              "array([10])"
            ]
          },
          "metadata": {},
          "execution_count": 66
        }
      ]
    },
    {
      "cell_type": "code",
      "source": [
        "b"
      ],
      "metadata": {
        "colab": {
          "base_uri": "https://localhost:8080/"
        },
        "id": "EkLdEL_aX0IL",
        "outputId": "d4f7b8e7-b9c6-44b5-a258-bdc099a63079"
      },
      "execution_count": 4,
      "outputs": [
        {
          "output_type": "execute_result",
          "data": {
            "text/plain": [
              "[0, 0, 3, 3, 4, 4, 4, 4, 4]"
            ]
          },
          "metadata": {},
          "execution_count": 4
        }
      ]
    },
    {
      "cell_type": "code",
      "source": [],
      "metadata": {
        "id": "WcXScBy0ftPs"
      },
      "execution_count": null,
      "outputs": []
    },
    {
      "cell_type": "code",
      "source": [
        "myclass.a\n"
      ],
      "metadata": {
        "colab": {
          "base_uri": "https://localhost:8080/"
        },
        "id": "g-hEzT8BAKjt",
        "outputId": "476799e4-7dce-4e18-8a96-9e41daecd7e7"
      },
      "execution_count": 5,
      "outputs": [
        {
          "output_type": "execute_result",
          "data": {
            "text/plain": [
              "6"
            ]
          },
          "metadata": {},
          "execution_count": 5
        }
      ]
    },
    {
      "cell_type": "code",
      "source": [
        "b[1]"
      ],
      "metadata": {
        "colab": {
          "base_uri": "https://localhost:8080/"
        },
        "id": "aFUwsk05aZT6",
        "outputId": "0cc4855f-d97e-45c5-aa98-609c5746d982"
      },
      "execution_count": 86,
      "outputs": [
        {
          "output_type": "execute_result",
          "data": {
            "text/plain": [
              "2"
            ]
          },
          "metadata": {},
          "execution_count": 86
        }
      ]
    },
    {
      "cell_type": "code",
      "source": [
        "c=iter(b)\n",
        "c"
      ],
      "metadata": {
        "colab": {
          "base_uri": "https://localhost:8080/"
        },
        "id": "kfjmpa4adRI6",
        "outputId": "925e59e6-19ae-41fa-adde-4f7c2c2b3c49"
      },
      "execution_count": 90,
      "outputs": [
        {
          "output_type": "execute_result",
          "data": {
            "text/plain": [
              "<iterator at 0x7feabb838150>"
            ]
          },
          "metadata": {},
          "execution_count": 90
        }
      ]
    },
    {
      "cell_type": "code",
      "source": [
        "import numpy as np"
      ],
      "metadata": {
        "id": "aFKljjCkiBRB"
      },
      "execution_count": 6,
      "outputs": []
    },
    {
      "cell_type": "code",
      "source": [
        "class input_species:\n",
        "  c,g=[],[]\n",
        "  import numpy as np\n",
        "  def __init__(self,Number,Life_time):\n",
        "    self.Number=Number\n",
        "    self.Life_time=Life_time\n",
        "    a=np.random.poisson(Life_time,Number)\n",
        "    a1=[a]\n",
        "    self.g.append(a1)\n",
        "\n",
        "    for i in range(Number):\n",
        "     Nuclei_track.t=a[i]\n",
        "     track = Nuclei_track()\n",
        "\n",
        "     m = iter(track)\n",
        "     b=list(m)\n",
        "    #for x in m:\n",
        "     self.c.append(b[-1])\n",
        "\n"
      ],
      "metadata": {
        "id": "cCJI8kRJjOf_"
      },
      "execution_count": 33,
      "outputs": []
    },
    {
      "cell_type": "code",
      "source": [
        "b=[]\n",
        "import numpy as np\n",
        "a=np.random.poisson(2,3)\n",
        "for i in range(3):\n",
        "  b.append(a[i])\n"
      ],
      "metadata": {
        "id": "lMdxyU2bUMnn"
      },
      "execution_count": 7,
      "outputs": []
    },
    {
      "cell_type": "code",
      "source": [
        "b"
      ],
      "metadata": {
        "colab": {
          "base_uri": "https://localhost:8080/"
        },
        "id": "8mf2_xfgVHM_",
        "outputId": "d261ab1f-bd68-49bc-df0e-76f5089fe5e3"
      },
      "execution_count": 12,
      "outputs": [
        {
          "output_type": "execute_result",
          "data": {
            "text/plain": [
              "[1, 0, 1]"
            ]
          },
          "metadata": {},
          "execution_count": 12
        }
      ]
    },
    {
      "cell_type": "code",
      "source": [
        "input_species(2,4)"
      ],
      "metadata": {
        "colab": {
          "base_uri": "https://localhost:8080/"
        },
        "id": "k0PluTa4req8",
        "outputId": "c2390c97-44b0-4d94-eea9-dea965182cd7"
      },
      "execution_count": 62,
      "outputs": [
        {
          "output_type": "execute_result",
          "data": {
            "text/plain": [
              "<__main__.input_species at 0x7f636014d990>"
            ]
          },
          "metadata": {},
          "execution_count": 62
        }
      ]
    },
    {
      "cell_type": "code",
      "source": [
        "input_species.c"
      ],
      "metadata": {
        "colab": {
          "base_uri": "https://localhost:8080/"
        },
        "id": "xa8BbMHza9sZ",
        "outputId": "830e92c4-e7c4-41fb-f143-22930b331f2e"
      },
      "execution_count": 63,
      "outputs": [
        {
          "output_type": "execute_result",
          "data": {
            "text/plain": [
              "[1, 1, 1, 1, 1, 1, 1, 1, 1, 1, 2, 1, 2, 1]"
            ]
          },
          "metadata": {},
          "execution_count": 63
        }
      ]
    },
    {
      "cell_type": "code",
      "source": [
        "input_species.g"
      ],
      "metadata": {
        "colab": {
          "base_uri": "https://localhost:8080/"
        },
        "id": "Vmx2wAk8nlN3",
        "outputId": "63eb7cb7-abbd-4ce6-a144-6ebd4a2d9fcb"
      },
      "execution_count": 61,
      "outputs": [
        {
          "output_type": "execute_result",
          "data": {
            "text/plain": [
              "[[array([3, 2])],\n",
              " [array([5, 8])],\n",
              " [array([6, 4])],\n",
              " [array([5, 0])],\n",
              " [array([4, 6])],\n",
              " [array([4, 2])]]"
            ]
          },
          "metadata": {},
          "execution_count": 61
        }
      ]
    },
    {
      "cell_type": "code",
      "source": [
        "b=np.random.poisson(0.2,1)\n",
        "b[0]"
      ],
      "metadata": {
        "colab": {
          "base_uri": "https://localhost:8080/"
        },
        "id": "Cp17AOKzuhql",
        "outputId": "f7eadb78-fe9e-497e-e68c-9156b590b573"
      },
      "execution_count": 55,
      "outputs": [
        {
          "output_type": "execute_result",
          "data": {
            "text/plain": [
              "0"
            ]
          },
          "metadata": {},
          "execution_count": 55
        }
      ]
    },
    {
      "cell_type": "code",
      "source": [
        "class Example:\n",
        "    def __init__(self):\n",
        "        print(\"Instance Created\")\n",
        "      \n",
        "    # Defining __call__ method\n",
        "    def __call__(self):\n",
        "        print(\"Instance is called via special method\")\n",
        "  \n",
        "# Instance created\n",
        "e = Example()\n"
      ],
      "metadata": {
        "colab": {
          "base_uri": "https://localhost:8080/"
        },
        "id": "b7v-PCmKtOOE",
        "outputId": "78fc1c5b-300e-4028-a1ae-510c0bc3f5da"
      },
      "execution_count": 34,
      "outputs": [
        {
          "output_type": "stream",
          "name": "stdout",
          "text": [
            "Instance Created\n"
          ]
        }
      ]
    },
    {
      "cell_type": "code",
      "source": [],
      "metadata": {
        "colab": {
          "base_uri": "https://localhost:8080/"
        },
        "id": "gc33DO8iSjMb",
        "outputId": "a8245d8f-326c-49bd-c057-e7fbad470f51"
      },
      "execution_count": 35,
      "outputs": [
        {
          "output_type": "stream",
          "name": "stdout",
          "text": [
            "Instance is called via special method\n"
          ]
        }
      ]
    },
    {
      "cell_type": "code",
      "source": [
        "import numpy as np\n",
        "output= np.random.poisson(5, 1)\n",
        "output"
      ],
      "metadata": {
        "colab": {
          "base_uri": "https://localhost:8080/"
        },
        "id": "YP75oJDNFoGC",
        "outputId": "f5275856-c8d4-48c7-9f78-a74338e4bb19"
      },
      "execution_count": 9,
      "outputs": [
        {
          "output_type": "execute_result",
          "data": {
            "text/plain": [
              "array([10])"
            ]
          },
          "metadata": {},
          "execution_count": 9
        }
      ]
    },
    {
      "cell_type": "code",
      "source": [
        "class figna:\n",
        "  def putamadre(self):"
      ],
      "metadata": {
        "colab": {
          "base_uri": "https://localhost:8080/",
          "height": 135
        },
        "id": "yF8i4PgXwQ66",
        "outputId": "4228110b-bc05-49bc-eb2b-40976b5572d9"
      },
      "execution_count": 38,
      "outputs": [
        {
          "output_type": "error",
          "ename": "SyntaxError",
          "evalue": "ignored",
          "traceback": [
            "\u001b[0;36m  File \u001b[0;32m\"<ipython-input-38-4fa3a256fb37>\"\u001b[0;36m, line \u001b[0;32m2\u001b[0m\n\u001b[0;31m    def putamadre(self):\u001b[0m\n\u001b[0m                        ^\u001b[0m\n\u001b[0;31mSyntaxError\u001b[0m\u001b[0;31m:\u001b[0m unexpected EOF while parsing\n"
          ]
        }
      ]
    },
    {
      "cell_type": "code",
      "source": [
        "s = 'abc'\n",
        "it = iter(s)\n",
        "next(it)"
      ],
      "metadata": {
        "colab": {
          "base_uri": "https://localhost:8080/",
          "height": 36
        },
        "id": "yIneYwQ-LVMq",
        "outputId": "0ee1a5fa-bb4a-4216-d189-fad571fd1450"
      },
      "execution_count": 3,
      "outputs": [
        {
          "output_type": "execute_result",
          "data": {
            "text/plain": [
              "'a'"
            ],
            "application/vnd.google.colaboratory.intrinsic+json": {
              "type": "string"
            }
          },
          "metadata": {},
          "execution_count": 3
        }
      ]
    },
    {
      "cell_type": "code",
      "source": [
        "next(it)\n"
      ],
      "metadata": {
        "colab": {
          "base_uri": "https://localhost:8080/",
          "height": 172
        },
        "id": "GKcsTUQDuh59",
        "outputId": "705560cf-485c-4fbd-b155-a1aadb7f94b3"
      },
      "execution_count": 6,
      "outputs": [
        {
          "output_type": "error",
          "ename": "StopIteration",
          "evalue": "ignored",
          "traceback": [
            "\u001b[0;31m---------------------------------------------------------------------------\u001b[0m",
            "\u001b[0;31mStopIteration\u001b[0m                             Traceback (most recent call last)",
            "\u001b[0;32m<ipython-input-6-bc1ab118995a>\u001b[0m in \u001b[0;36m<module>\u001b[0;34m\u001b[0m\n\u001b[0;32m----> 1\u001b[0;31m \u001b[0mnext\u001b[0m\u001b[0;34m(\u001b[0m\u001b[0mit\u001b[0m\u001b[0;34m)\u001b[0m\u001b[0;34m\u001b[0m\u001b[0;34m\u001b[0m\u001b[0m\n\u001b[0m",
            "\u001b[0;31mStopIteration\u001b[0m: "
          ]
        }
      ]
    },
    {
      "cell_type": "code",
      "source": [
        "message"
      ],
      "metadata": {
        "colab": {
          "base_uri": "https://localhost:8080/"
        },
        "id": "hjstO4H2p6sH",
        "outputId": "13e36644-9c5b-45a8-e06a-0be5b2a77bf8"
      },
      "execution_count": 12,
      "outputs": [
        {
          "output_type": "execute_result",
          "data": {
            "text/plain": [
              "<__main__.MyNumbers at 0x7fd221f0ad10>"
            ]
          },
          "metadata": {},
          "execution_count": 12
        }
      ]
    },
    {
      "cell_type": "code",
      "source": [
        "class MyNumbers(output)"
      ],
      "metadata": {
        "colab": {
          "base_uri": "https://localhost:8080/",
          "height": 135
        },
        "id": "TgK2lnSAGW4E",
        "outputId": "b2112858-7d1c-4b90-c38d-3ce349fccb6b"
      },
      "execution_count": 13,
      "outputs": [
        {
          "output_type": "error",
          "ename": "SyntaxError",
          "evalue": "ignored",
          "traceback": [
            "\u001b[0;36m  File \u001b[0;32m\"<ipython-input-13-0561aa4cd0be>\"\u001b[0;36m, line \u001b[0;32m1\u001b[0m\n\u001b[0;31m    class MyNumbers(output)\u001b[0m\n\u001b[0m                           ^\u001b[0m\n\u001b[0;31mSyntaxError\u001b[0m\u001b[0;31m:\u001b[0m invalid syntax\n"
          ]
        }
      ]
    }
  ]
}