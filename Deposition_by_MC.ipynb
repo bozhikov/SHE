{
  "cells": [
    {
      "cell_type": "markdown",
      "metadata": {
        "id": "view-in-github",
        "colab_type": "text"
      },
      "source": [
        "<a href=\"https://colab.research.google.com/github/bozhikov/SHE/blob/main/Deposition_by_MC.ipynb\" target=\"_parent\"><img src=\"https://colab.research.google.com/assets/colab-badge.svg\" alt=\"Open In Colab\"/></a>"
      ]
    },
    {
      "cell_type": "code",
      "execution_count": null,
      "metadata": {
        "id": "vlR1XAIUCQBR"
      },
      "outputs": [],
      "source": [
        "import numpy as np\n",
        "from matplotlib import pyplot as plt"
      ]
    },
    {
      "cell_type": "code",
      "execution_count": null,
      "metadata": {
        "id": "G_1-OvBWBsv4"
      },
      "outputs": [],
      "source": [
        "class MC_depos_pattern():\n",
        "  import numpy as np\n",
        "  Q,p,S,p00,DHa,Mg1,Mg2,M_iso,ro1,ro2,ro_iso=[],[],[],[],[],[],[],[],[],[],[]\n",
        " \n",
        "  def __init__(self):\n",
        "   print('input data : Q(m3/s),S(m),p(Pa),DHa(J/mol),Mg1,2,_iso(g/mol),ro1,2,_iso(g/cm3)')\n",
        "    \n",
        "  def __call__(self,temp):\n",
        "   \n",
        "   self.temp=temp\n",
        "   \n",
        "   G=self.Q*(self.temp/298.15)*101325/self.p    # {corrected flow}\n",
        "   Ui= G/(3.14*(0.5*self.S)**2)          #  {linear gas velocity, m/s}\n",
        "   tm = self.p00 * np.exp(self.DHa/(8.31447*self.temp))\n",
        "   \n",
        "   D298_Mg1=0.0043*298.15**(3/2)*(1/self.Mg1+1/self.M_iso)**(1/2)/((self.p/101325)*((self.Mg1/self.ro1)**(1/3)+(self.M_iso/self.ro_iso)**(1/3))**2)\n",
        "   D298_Mg2=0.0043*298.15**(3/2)*(1/(self.Mg2)+1/(self.M_iso))**(1/2)/((self.p/101325)*((self.Mg2/self.ro2)**(1/3)+(self.M_iso/self.ro_iso)**(1/3))**2)\n",
        "   D298_mix=0.6*D298_Mg1+0.4* D298_Mg2\n",
        "   D_t=D298_mix*(self.temp/298.15)**1.75/10000\n",
        "   vi = ((0.5*self.S)/G) * (8 * 8.314 * self.temp /(3.14*self.M_iso/1000))**(1/2) #  {n° collisions per unit lenght\n",
        "   Ri = (1/Ui)/((1/Ui)+(vi*tm))      #  {ratio: residence time in the gas phase / overall residence time}\n",
        "   Nm = (3.14*(0.5*self.S)**2*D_t/G)+(11-(16*Ri)+(6*Ri*Ri))*(G/(24*3.14*D_t)) # {Nm = average jump length, m}\n",
        "   C=[Nm,Ui,tm]\n",
        "   return C"
      ]
    },
    {
      "cell_type": "code",
      "execution_count": null,
      "metadata": {
        "colab": {
          "base_uri": "https://localhost:8080/"
        },
        "id": "xBU9TZZYjwqK",
        "outputId": "52503f27-292f-49d1-9258-156369f5e0a2"
      },
      "outputs": [
        {
          "name": "stdout",
          "output_type": "stream",
          "text": [
            "input data : Q(m3/s),S(m),p(Pa),DHa(J/mol),Mg1,2,_iso(g/mol),ro1,2,_iso(g/cm3)\n"
          ]
        }
      ],
      "source": [
        "x1=MC_depos_pattern()\n"
      ]
    },
    {
      "cell_type": "code",
      "execution_count": null,
      "metadata": {
        "id": "O1phuZ30_DJX"
      },
      "outputs": [],
      "source": [
        "x1.Q=1e-5"
      ]
    },
    {
      "cell_type": "code",
      "execution_count": null,
      "metadata": {
        "id": "vV0dRSTBwfdd"
      },
      "outputs": [],
      "source": [
        "x1.p=120000"
      ]
    },
    {
      "cell_type": "code",
      "execution_count": null,
      "metadata": {
        "id": "o0HRdupt76CH"
      },
      "outputs": [],
      "source": [
        "x1.S=2e-3"
      ]
    },
    {
      "cell_type": "code",
      "execution_count": null,
      "metadata": {
        "id": "ODCqDUlg7l_g"
      },
      "outputs": [],
      "source": [
        "x1.p00=4e-13"
      ]
    },
    {
      "cell_type": "code",
      "execution_count": null,
      "metadata": {
        "id": "hvwVWdHo8Kno"
      },
      "outputs": [],
      "source": [
        "x1.DHa=62000"
      ]
    },
    {
      "cell_type": "code",
      "execution_count": null,
      "metadata": {
        "id": "VUd4dJOP8RB4"
      },
      "outputs": [],
      "source": [
        "x1.Mg1=4"
      ]
    },
    {
      "cell_type": "code",
      "execution_count": null,
      "metadata": {
        "id": "EtB57ds18bEW"
      },
      "outputs": [],
      "source": [
        "x1.Mg2=39.9"
      ]
    },
    {
      "cell_type": "code",
      "execution_count": null,
      "metadata": {
        "id": "uxNnqM47lWZq"
      },
      "outputs": [],
      "source": [
        "x1.M_iso=179"
      ]
    },
    {
      "cell_type": "code",
      "execution_count": null,
      "metadata": {
        "id": "QiruUqOc8hxO"
      },
      "outputs": [],
      "source": [
        "x1.Mnucl=179"
      ]
    },
    {
      "cell_type": "code",
      "execution_count": null,
      "metadata": {
        "id": "hAhVGfII8rrP"
      },
      "outputs": [],
      "source": [
        "x1.ro1=0.145"
      ]
    },
    {
      "cell_type": "code",
      "execution_count": null,
      "metadata": {
        "id": "Egda7kMh8wjH"
      },
      "outputs": [],
      "source": [
        "x1.ro2=1.4"
      ]
    },
    {
      "cell_type": "code",
      "execution_count": null,
      "metadata": {
        "id": "DBmAquki83w2"
      },
      "outputs": [],
      "source": [
        "x1.ro_iso=13.594"
      ]
    },
    {
      "cell_type": "code",
      "execution_count": null,
      "metadata": {
        "colab": {
          "base_uri": "https://localhost:8080/"
        },
        "id": "T6WVz1CFwwCE",
        "outputId": "701f42e4-ed88-4891-8f16-9cb2419357f5"
      },
      "outputs": [
        {
          "data": {
            "text/plain": [
              "[0.025672600306733066, 1.3438697338470462, 5343.936414800918]"
            ]
          },
          "execution_count": 1029,
          "metadata": {},
          "output_type": "execute_result"
        }
      ],
      "source": [
        "zz=x1(298)\n",
        "zz"
      ]
    },
    {
      "cell_type": "code",
      "execution_count": null,
      "metadata": {
        "colab": {
          "base_uri": "https://localhost:8080/"
        },
        "id": "r1PMK7VO86QH",
        "outputId": "07053011-35e9-4c8d-8f69-4b8f13eadcea"
      },
      "outputs": [
        {
          "data": {
            "text/plain": [
              "int"
            ]
          },
          "execution_count": 470,
          "metadata": {},
          "output_type": "execute_result"
        }
      ],
      "source": [
        "type(x1.Mg_isotop)"
      ]
    },
    {
      "cell_type": "code",
      "execution_count": null,
      "metadata": {
        "colab": {
          "base_uri": "https://localhost:8080/"
        },
        "id": "dlgnzwMcseEC",
        "outputId": "9b2456e1-f9cc-44bb-a704-66366851e87c"
      },
      "outputs": [
        {
          "data": {
            "text/plain": [
              "2.875"
            ]
          },
          "execution_count": 331,
          "metadata": {},
          "output_type": "execute_result"
        }
      ],
      "source": [
        "w=0.69/0.24\n",
        "w"
      ]
    },
    {
      "cell_type": "code",
      "execution_count": null,
      "metadata": {
        "colab": {
          "base_uri": "https://localhost:8080/"
        },
        "id": "tS35zVWDv7-B",
        "outputId": "92b28c83-ba86-4997-962a-6134ed5556cf"
      },
      "outputs": [
        {
          "name": "stdout",
          "output_type": "stream",
          "text": [
            "<__main__.MC_depos_pattern object at 0x7f74001d0760>\n"
          ]
        }
      ],
      "source": [
        "print(x1)"
      ]
    },
    {
      "cell_type": "code",
      "execution_count": null,
      "metadata": {
        "id": "KQz4PNYylhaL"
      },
      "outputs": [],
      "source": [
        "MC_depos_pattern.p=120000\n"
      ]
    },
    {
      "cell_type": "code",
      "execution_count": null,
      "metadata": {
        "id": "TGa4MNoFllDh"
      },
      "outputs": [],
      "source": [
        "MC_depos_pattern.p00=4*10^(-13)"
      ]
    },
    {
      "cell_type": "code",
      "execution_count": null,
      "metadata": {
        "id": "46kpuFyPmhCI"
      },
      "outputs": [],
      "source": [
        "MC_depos_pattern.S=2*10^(-3)"
      ]
    },
    {
      "cell_type": "code",
      "execution_count": null,
      "metadata": {
        "id": "9HJ4qjHRnFXx"
      },
      "outputs": [],
      "source": [
        "MC_depos_pattern.DHa=68000"
      ]
    },
    {
      "cell_type": "code",
      "execution_count": null,
      "metadata": {
        "id": "LcDsmdr7ngFp"
      },
      "outputs": [],
      "source": [
        "MC_depos_pattern.Mg1=4"
      ]
    },
    {
      "cell_type": "code",
      "execution_count": null,
      "metadata": {
        "id": "mx4BsrsppI7g"
      },
      "outputs": [],
      "source": [
        "MC_depos_pattern.Mg2=39.9"
      ]
    },
    {
      "cell_type": "code",
      "execution_count": null,
      "metadata": {
        "id": "8q3X_7orpRXo"
      },
      "outputs": [],
      "source": [
        "MC_depos_pattern.Mg_iso=179"
      ]
    },
    {
      "cell_type": "code",
      "execution_count": null,
      "metadata": {
        "id": "byrCUY-xpffH"
      },
      "outputs": [],
      "source": [
        "MC_depos_pattern.ro1=0.145"
      ]
    },
    {
      "cell_type": "code",
      "execution_count": null,
      "metadata": {
        "id": "vaSaQeQPqFDy"
      },
      "outputs": [],
      "source": [
        "MC_depos_pattern.ro2=1.4"
      ]
    },
    {
      "cell_type": "code",
      "execution_count": null,
      "metadata": {
        "id": "DbeHYQgnrEFP"
      },
      "outputs": [],
      "source": [
        "MC_depos_pattern.ro_iso=13.594"
      ]
    },
    {
      "cell_type": "code",
      "execution_count": null,
      "metadata": {
        "id": "P_A4WWCISlrR"
      },
      "outputs": [],
      "source": []
    },
    {
      "cell_type": "code",
      "execution_count": null,
      "metadata": {
        "colab": {
          "base_uri": "https://localhost:8080/",
          "height": 265
        },
        "id": "6YPA0MmAvwgG",
        "outputId": "3e5530ee-c23c-48ae-aece-3b351e003658"
      },
      "outputs": [
        {
          "data": {
            "image/png": "[encoded data removed]",
            "text/plain": [
              "<Figure size 432x288 with 1 Axes>"
            ]
          },
          "metadata": {},
          "output_type": "display_data"
        }
      ],
      "source": [
        "import numpy as np\n",
        "output= np.random.poisson(0.5, 100)\n",
        "from matplotlib import pyplot as plt\n",
        "count, bins, ignored = plt.hist( output, 3)\n",
        "plt.show()\n"
      ]
    },
    {
      "cell_type": "code",
      "execution_count": null,
      "metadata": {
        "id": "3Y2sFtfgjvdE"
      },
      "outputs": [],
      "source": []
    },
    {
      "cell_type": "code",
      "execution_count": null,
      "metadata": {
        "colab": {
          "base_uri": "https://localhost:8080/"
        },
        "id": "kzxRYMs70qtL",
        "outputId": "512842d6-80b0-4f64-c3f0-a90a06a77d26"
      },
      "outputs": [
        {
          "data": {
            "text/plain": [
              "0.47"
            ]
          },
          "execution_count": 22,
          "metadata": {},
          "output_type": "execute_result"
        }
      ],
      "source": [
        "y=np.mean(output)\n",
        "y"
      ]
    },
    {
      "cell_type": "code",
      "execution_count": null,
      "metadata": {
        "colab": {
          "base_uri": "https://localhost:8080/"
        },
        "id": "DyKHllRdeLfM",
        "outputId": "2a73250f-1dac-4400-8801-fc407ae90d5c"
      },
      "outputs": [
        {
          "data": {
            "text/plain": [
              "array([1, 0, 1, 0, 0, 1, 0, 1, 0, 0, 0, 0, 0, 1, 0, 0, 0, 0, 1, 1, 0, 0,\n",
              "       0, 0, 1, 0, 3, 0, 0, 0, 0, 2, 1, 2, 1, 0, 0, 1, 1, 2, 0, 0, 1, 0,\n",
              "       0, 0, 0, 0, 2, 1, 0, 0, 0, 0, 0, 0, 1, 1, 0, 1, 0, 1, 0, 1, 0, 1,\n",
              "       0, 0, 1, 1, 1, 0, 1, 0, 1, 1, 0, 1, 0, 0, 1, 1, 0, 0, 0, 0, 1, 0,\n",
              "       1, 0, 0, 1, 0, 0, 0, 1, 2, 1, 0, 0])"
            ]
          },
          "execution_count": 23,
          "metadata": {},
          "output_type": "execute_result"
        }
      ],
      "source": [
        "output"
      ]
    },
    {
      "cell_type": "code",
      "execution_count": null,
      "metadata": {
        "id": "L5RyyvmI9yF2"
      },
      "outputs": [],
      "source": [
        "class Nuclei_track:\n",
        "  t,temp=[],[]\n",
        "  import numpy as np\n",
        "  def __iter__(self):\n",
        "    self.a = 0\n",
        "    self.coord=0\n",
        "    self.temp=298\n",
        "    return self\n",
        "\n",
        "  def __next__(self):\n",
        "    if self.a <self.t:\n",
        "      \n",
        "      xy=x1(self.temp)\n",
        "      jump_aver=xy[0]*100\n",
        "      velosity=xy[1]*100\n",
        "      av_sor_time=xy[2]\n",
        "      nu=1/jump_aver\n",
        "      b=np.random.poisson(nu,1)\n",
        "      f=b[0]==0\n",
        "      self.a=self.a+f*av_sor_time+b[0]/velosity\n",
        "      self.coord=self.coord+b[0]\n",
        "      iron=[self.a,self.coord]\n",
        "      return  self.coord\n",
        "    else:\n",
        "      raise StopIteration\n",
        "      #return self.coord\n",
        "\n",
        "\n"
      ]
    },
    {
      "cell_type": "code",
      "execution_count": null,
      "metadata": {
        "id": "aFKljjCkiBRB"
      },
      "outputs": [],
      "source": [
        "ac= Nuclei_track()"
      ]
    },
    {
      "cell_type": "code",
      "execution_count": null,
      "metadata": {
        "colab": {
          "base_uri": "https://localhost:8080/"
        },
        "id": "Z1-mwxcPhdUR",
        "outputId": "cbe80949-4f28-483f-c7f6-e893fdec4351"
      },
      "outputs": [
        {
          "name": "stdout",
          "output_type": "stream",
          "text": [
            "2\n",
            "7\n",
            "16\n",
            "24\n",
            "29\n",
            "36\n",
            "41\n",
            "49\n",
            "56\n",
            "65\n",
            "75\n",
            "84\n"
          ]
        }
      ],
      "source": [
        "dc=iter(ac)\n",
        "for jj in dc:\n",
        "  print(jj)"
      ]
    },
    {
      "cell_type": "code",
      "execution_count": 2,
      "metadata": {
        "id": "cCJI8kRJjOf_"
      },
      "outputs": [],
      "source": [
        "class input_species:\n",
        "  c,g=[],[]\n",
        "  import numpy as np\n",
        "  def __init__(self,Number,Life_time):\n",
        "    self.Number=Number\n",
        "    self.Life_time=Life_time\n",
        "    a=np.random.poisson(Life_time,Number)\n",
        "    \n",
        "    self.g.append(a)\n",
        "\n",
        "    for i in range(len(a)):\n",
        "     Nuclei_track.t=a[i]\n",
        "     track = Nuclei_track()\n",
        "\n",
        "     m = iter(track)\n",
        "     b=list(m)\n",
        "     b1=len(b)\n",
        "     if b1>0 :\n",
        "      self.c.append(b[b1-1])\n",
        "\n"
      ]
    },
    {
      "cell_type": "code",
      "execution_count": null,
      "metadata": {
        "colab": {
          "background_save": true
        },
        "id": "NzAL0TLmsYkn"
      },
      "outputs": [],
      "source": [
        "Hg_cal_1000=input_species(10000,0.69)"
      ]
    },
    {
      "cell_type": "code",
      "execution_count": null,
      "metadata": {
        "id": "x_GplIWprnvj"
      },
      "outputs": [],
      "source": [
        "Hg_cal_1000.c=0"
      ]
    },
    {
      "cell_type": "code",
      "execution_count": null,
      "metadata": {
        "id": "5_v3CX3Ixnyj"
      },
      "outputs": [],
      "source": [
        "Hg_cal_1000.g=0"
      ]
    },
    {
      "cell_type": "code",
      "execution_count": null,
      "metadata": {
        "id": "KpeNRDyB_dZQ"
      },
      "outputs": [],
      "source": [
        "class Gas_cromatogram:\n",
        "  #St_1,St_2,St_3,St_4,St_5,St_6,St_7,St_8,St_9,St_10,St_11,St_12,St_13,St_14,St_15,St_16,input_data=[],[],[],[],[],[],[],[],[],[],[],[],[],[],[],[],[]\n",
        " \n",
        "\n",
        "  \n",
        "\n",
        "  def __init__(self,*nuclei):\n",
        "   self.nuclei=nuclei\n",
        "   #self.input_data.append(nuclei)\n",
        "\n",
        "   self.St1=0\n",
        "   self.St2=0\n",
        "   self.St3=0\n",
        "   self.St4=0\n",
        "   self.St5=0\n",
        "   self.St6=0\n",
        "   self.St7=0\n",
        "   self.St8=0\n",
        "   self.St9=0\n",
        "   self.St10=0\n",
        "   self.St11=0\n",
        "   self.St12=0\n",
        "   self.St13=0\n",
        "   self.St14=0\n",
        "   self.St15=0\n",
        "   self.St16=0\n",
        "\n",
        "  def distr_fig(self):\n",
        " \n",
        "    for i in range(len(self.nuclei[0])):\n",
        "     f1=self.nuclei[0][i]<1\n",
        "     f2=self.nuclei[0][i]<2\n",
        "     f3=self.nuclei[0][i]<3\n",
        "     f4=self.nuclei[0][i]<4\n",
        "     f5=self.nuclei[0][i]<5\n",
        "     f6=self.nuclei[0][i]<6\n",
        "     f7=self.nuclei[0][i]<7\n",
        "     f8=self.nuclei[0][i]<8\n",
        "     f9=self.nuclei[0][i]<9\n",
        "     f10=self.nuclei[0][i]<10\n",
        "     f11=self.nuclei[0][i]<11\n",
        "     f12=self.nuclei[0][i]<12\n",
        "     f13=self.nuclei[0][i]<13\n",
        "     f14=self.nuclei[0][i]<14\n",
        "     f15=self.nuclei[0][i]<15\n",
        "     f16=self.nuclei[0][i]<16\n",
        "     self.St1=self.St1+f1*1\n",
        "     self.St2=self.St2+f2*1  #-self.St1\n",
        "     self.St3=self.St3+f3*1  #-self.St1-self.St2\n",
        "     self.St4=self.St4+f4*1  #-self.St1-self.St2-self.St3\n",
        "     self.St5=self.St5+f5*1  #-self.St1-self.St2-self.St3-self.St4\n",
        "     self.St6=self.St6+f6*1  #-self.St1-self.St2-self.St3-self.St4-self.St5\n",
        "     self.St7=self.St7+f7*1  #-self.St1-self.St2-self.St3-self.St4-self.St5-self.St6\n",
        "     self.St8=self.St8+f8*1  #-self.St1-self.St2-self.St3-self.St4-self.St5-self.St6-self.St7\n",
        "     self.St9=self.St9+f9*1  #-self.St1-self.St2-self.St3-self.St4-self.St5-self.St6-self.St7-self.St8\n",
        "     self.St10=self.St10+f10*1 #-self.St1-self.St2-self.St3-self.St4-self.St5-self.St6-self.St7-self.St8-self.St9\n",
        "     self.St11=self.St11+f11*1  #-self.St1-self.St2-self.St3-self.St4-self.St5-self.St6-self.St7-self.St8-self.St9-self.St10\n",
        "     self.St12=self.St12+f12*1  #-self.St1-self.St2-self.St3-self.St4-self.St5-self.St6-self.St7-self.St8-self.St9-self.St10-self.St11\n",
        "     self.St13=self.St13+f13*1  #-self.St1-self.St2-self.St3-self.St4-self.St5-self.St6-self.St7-self.St8-self.St9-self.St10-self.St11-self.St12\n",
        "     self.St14=self.St14+f14*1  #-self.St1-self.St2-self.St3-self.St4-self.St5-self.St6-self.St7-self.St8-self.St9-self.St10-self.St11-self.St12-self.St13\n",
        "     self.St15=self.St15+f15*1  #-self.St1-self.St2-self.St3-self.St4-self.St5-self.St6-self.St7-self.St8-self.St9-self.St10-self.St11-self.St12-self.St13-self.St14\n",
        "     self.St16=self.St16+f16*1  #-self.St1-self.St2-self.St3-self.St4-self.St5-self.St6-self.St7-self.St8-self.St9-self.St10-self.St11-self.St12-self.St13-self.St14-self.St15\n",
        "     # final sumations\n",
        "  def final_data(self):\n",
        "     self.St_1=self.St1\n",
        "     self.St_2=self.St2-self.St1\n",
        "     self.St_3=self.St3-self.St2\n",
        "     self.St_4=self.St4-self.St3\n",
        "     self.St_5=self.St5-self.St4\n",
        "     self.St_6=self.St6-self.St5\n",
        "     self.St_7=self.St7-self.St6\n",
        "     self.St_8=self.St8-self.St7\n",
        "     self.St_9=self.St9-self.St8\n",
        "     self.St_10=self.St10-self.St9\n",
        "     self.St_11=self.St11-self.St10\n",
        "     self.St_12=self.St12-self.St11\n",
        "     self.St_13=self.St13-self.St12\n",
        "     self.St_14=self.St14-self.St13\n",
        "     self.St_15=self.St15-self.St14\n",
        "     self.St_16=self.St16-self.St15\n",
        "\n",
        "\n"
      ]
    },
    {
      "cell_type": "code",
      "execution_count": null,
      "metadata": {
        "id": "EgkYdFpmyMxC"
      },
      "outputs": [],
      "source": [
        "y1=Gas_cromatogram(Hg_cal_1000.c)\n"
      ]
    },
    {
      "cell_type": "code",
      "execution_count": null,
      "metadata": {
        "id": "VpeksoZlpOi2"
      },
      "outputs": [],
      "source": [
        "y1.St_1,y1.St_2,y1.St_3,y1.St_4,y1.St_5,y1.St_6,y1.St_7,y1.St_8,y1.St_9,y1.St_10,y1.St_11,y1.St_12,y1.St_13,y1.St_14,y1.St_15,y1.St_16=0,0,0,0,0,0,0,0,0,0,0,0,0,0,0,0"
      ]
    },
    {
      "cell_type": "code",
      "execution_count": null,
      "metadata": {
        "id": "1lu6JWpWLW6j"
      },
      "outputs": [],
      "source": [
        "y1.distr_fig()"
      ]
    },
    {
      "cell_type": "code",
      "execution_count": null,
      "metadata": {
        "id": "6UyXo9Q-rhwM"
      },
      "outputs": [],
      "source": [
        "y1.final_data()"
      ]
    },
    {
      "cell_type": "code",
      "execution_count": null,
      "metadata": {
        "colab": {
          "base_uri": "https://localhost:8080/"
        },
        "id": "bls7WnrUoD8j",
        "outputId": "7f212fe7-2f69-4867-d21a-20ed1469785b"
      },
      "outputs": [
        {
          "data": {
            "text/plain": [
              "1531"
            ]
          },
          "execution_count": 264,
          "metadata": {},
          "output_type": "execute_result"
        }
      ],
      "source": [
        "y1.St7"
      ]
    },
    {
      "cell_type": "code",
      "execution_count": null,
      "metadata": {
        "colab": {
          "base_uri": "https://localhost:8080/",
          "height": 265
        },
        "id": "jWkPVDZHHCLr",
        "outputId": "4f108303-aadf-47a7-aa0d-87ef2dae88b7"
      },
      "outputs": [
        {
          "data": {
            "image/png": "[encoded data removed]",
            "text/plain": [
              "<Figure size 720x288 with 1 Axes>"
            ]
          },
          "metadata": {},
          "output_type": "display_data"
        }
      ],
      "source": [
        "output=[y1.St_1,y1.St_2,y1.St_3,y1.St_4,y1.St_5,y1.St_6,y1.St_7,y1.St_8,y1.St_9,y1.St_10,y1.St_11,y1.St_12,y1.St_13,y1.St_14,y1.St_15,y1.St_16]\n",
        "num_strip=[1,2,3,4,5,6,7,8,9,10,11,12,13,14,15,16]\n",
        "\n",
        "plt.figure(figsize=(10, 4))\n",
        "\n",
        "plt.subplot(131)\n",
        "plt.bar(num_strip, output)\n",
        "\n",
        "\n",
        "\n",
        "\n",
        "plt.show()\n"
      ]
    },
    {
      "cell_type": "code",
      "execution_count": null,
      "metadata": {
        "colab": {
          "base_uri": "https://localhost:8080/"
        },
        "id": "-9ZgHP7xy41g",
        "outputId": "70b876dd-beea-412d-d231-c935cd826f73"
      },
      "outputs": [
        {
          "name": "stdout",
          "output_type": "stream",
          "text": [
            "1\n",
            "0\n",
            "0\n",
            "0\n",
            "0\n",
            "0\n",
            "0\n",
            "0\n",
            "1\n",
            "0\n",
            "0\n",
            "0\n",
            "0\n",
            "0\n",
            "0\n",
            "1\n",
            "0\n",
            "0\n",
            "0\n",
            "0\n"
          ]
        }
      ],
      "source": [
        "for i in range(len(y1.input_data[0][0])):\n",
        " zz=y1.input_data[0][0][i] \n",
        " print(zz)"
      ]
    },
    {
      "cell_type": "code",
      "execution_count": null,
      "metadata": {
        "colab": {
          "base_uri": "https://localhost:8080/"
        },
        "id": "DqnR5737FNqK",
        "outputId": "8573533a-676e-403e-d340-f90b63a493bd"
      },
      "outputs": [
        {
          "data": {
            "text/plain": [
              "[1, 0, 0, 0, 0, 0, 0, 0, 1, 0, 0, 0, 0, 0, 0, 1, 0, 0, 0, 0]"
            ]
          },
          "execution_count": 67,
          "metadata": {},
          "output_type": "execute_result"
        }
      ],
      "source": [
        "Hg_cal_1000.c"
      ]
    },
    {
      "cell_type": "code",
      "execution_count": null,
      "metadata": {
        "colab": {
          "base_uri": "https://localhost:8080/",
          "height": 301
        },
        "id": "P78bWcJeG4E2",
        "outputId": "552293c5-1475-4933-a954-a10bf1b2145f"
      },
      "outputs": [
        {
          "ename": "TypeError",
          "evalue": "ignored",
          "output_type": "error",
          "traceback": [
            "\u001b[0;31m---------------------------------------------------------------------------\u001b[0m",
            "\u001b[0;31mTypeError\u001b[0m                                 Traceback (most recent call last)",
            "\u001b[0;32m<ipython-input-97-a88b22ed43b0>\u001b[0m in \u001b[0;36m<module>\u001b[0;34m\u001b[0m\n\u001b[0;32m----> 1\u001b[0;31m \u001b[0my1\u001b[0m\u001b[0;34m.\u001b[0m\u001b[0mdistr_fig\u001b[0m\u001b[0;34m(\u001b[0m\u001b[0;34m)\u001b[0m\u001b[0;34m\u001b[0m\u001b[0;34m\u001b[0m\u001b[0m\n\u001b[0m",
            "\u001b[0;32m<ipython-input-71-af1101092435>\u001b[0m in \u001b[0;36mdistr_fig\u001b[0;34m(self)\u001b[0m\n\u001b[1;32m     12\u001b[0m \u001b[0;34m\u001b[0m\u001b[0m\n\u001b[1;32m     13\u001b[0m    \u001b[0;32mfor\u001b[0m \u001b[0mi\u001b[0m \u001b[0;32min\u001b[0m \u001b[0mself\u001b[0m\u001b[0;34m.\u001b[0m\u001b[0mnuclei\u001b[0m\u001b[0;34m:\u001b[0m\u001b[0;34m\u001b[0m\u001b[0;34m\u001b[0m\u001b[0m\n\u001b[0;32m---> 14\u001b[0;31m      \u001b[0mf1\u001b[0m\u001b[0;34m=\u001b[0m\u001b[0mself\u001b[0m\u001b[0;34m.\u001b[0m\u001b[0mnuclei\u001b[0m\u001b[0;34m<\u001b[0m\u001b[0;36m1\u001b[0m\u001b[0;34m\u001b[0m\u001b[0;34m\u001b[0m\u001b[0m\n\u001b[0m\u001b[1;32m     15\u001b[0m      \u001b[0mf2\u001b[0m\u001b[0;34m=\u001b[0m\u001b[0mself\u001b[0m\u001b[0;34m.\u001b[0m\u001b[0mnuclei\u001b[0m\u001b[0;34m<\u001b[0m\u001b[0;36m2\u001b[0m\u001b[0;34m\u001b[0m\u001b[0;34m\u001b[0m\u001b[0m\n\u001b[1;32m     16\u001b[0m      \u001b[0mf3\u001b[0m\u001b[0;34m=\u001b[0m\u001b[0mself\u001b[0m\u001b[0;34m.\u001b[0m\u001b[0mnuclei\u001b[0m\u001b[0;34m<\u001b[0m\u001b[0;36m3\u001b[0m\u001b[0;34m\u001b[0m\u001b[0;34m\u001b[0m\u001b[0m\n",
            "\u001b[0;31mTypeError\u001b[0m: '<' not supported between instances of 'tuple' and 'int'"
          ]
        }
      ],
      "source": [
        "y1.distr_fig()"
      ]
    },
    {
      "cell_type": "code",
      "execution_count": null,
      "metadata": {
        "id": "lMdxyU2bUMnn"
      },
      "outputs": [],
      "source": [
        "b=[]\n",
        "import numpy as np\n",
        "a=np.random.poisson(2,3)\n",
        "for i in range(3):\n",
        "  b.append(a[i])\n"
      ]
    },
    {
      "cell_type": "code",
      "execution_count": null,
      "metadata": {
        "colab": {
          "base_uri": "https://localhost:8080/"
        },
        "id": "k0PluTa4req8",
        "outputId": "c2390c97-44b0-4d94-eea9-dea965182cd7"
      },
      "outputs": [
        {
          "data": {
            "text/plain": [
              "<__main__.input_species at 0x7f636014d990>"
            ]
          },
          "execution_count": 62,
          "metadata": {},
          "output_type": "execute_result"
        }
      ],
      "source": [
        "input_species(2,4)"
      ]
    },
    {
      "cell_type": "code",
      "execution_count": null,
      "metadata": {
        "colab": {
          "base_uri": "https://localhost:8080/"
        },
        "id": "xa8BbMHza9sZ",
        "outputId": "830e92c4-e7c4-41fb-f143-22930b331f2e"
      },
      "outputs": [
        {
          "data": {
            "text/plain": [
              "[1, 1, 1, 1, 1, 1, 1, 1, 1, 1, 2, 1, 2, 1]"
            ]
          },
          "execution_count": 63,
          "metadata": {},
          "output_type": "execute_result"
        }
      ],
      "source": [
        "input_species.c"
      ]
    },
    {
      "cell_type": "code",
      "execution_count": null,
      "metadata": {
        "colab": {
          "base_uri": "https://localhost:8080/"
        },
        "id": "Vmx2wAk8nlN3",
        "outputId": "63eb7cb7-abbd-4ce6-a144-6ebd4a2d9fcb"
      },
      "outputs": [
        {
          "data": {
            "text/plain": [
              "[[array([3, 2])],\n",
              " [array([5, 8])],\n",
              " [array([6, 4])],\n",
              " [array([5, 0])],\n",
              " [array([4, 6])],\n",
              " [array([4, 2])]]"
            ]
          },
          "execution_count": 61,
          "metadata": {},
          "output_type": "execute_result"
        }
      ],
      "source": [
        "input_species.g"
      ]
    },
    {
      "cell_type": "code",
      "execution_count": null,
      "metadata": {
        "colab": {
          "base_uri": "https://localhost:8080/"
        },
        "id": "b7v-PCmKtOOE",
        "outputId": "78fc1c5b-300e-4028-a1ae-510c0bc3f5da"
      },
      "outputs": [
        {
          "name": "stdout",
          "output_type": "stream",
          "text": [
            "Instance Created\n"
          ]
        }
      ],
      "source": [
        "class Example:\n",
        "    def __init__(self):\n",
        "        print(\"Instance Created\")\n",
        "      \n",
        "    # Defining __call__ method\n",
        "    def __call__(self):\n",
        "        print(\"Instance is called via special method\")\n",
        "  \n",
        "# Instance created\n",
        "e = Example()\n"
      ]
    },
    {
      "cell_type": "code",
      "execution_count": null,
      "metadata": {
        "colab": {
          "base_uri": "https://localhost:8080/"
        },
        "id": "gc33DO8iSjMb",
        "outputId": "a8245d8f-326c-49bd-c057-e7fbad470f51"
      },
      "outputs": [
        {
          "name": "stdout",
          "output_type": "stream",
          "text": [
            "Instance is called via special method\n"
          ]
        }
      ],
      "source": []
    },
    {
      "cell_type": "code",
      "execution_count": null,
      "metadata": {
        "colab": {
          "base_uri": "https://localhost:8080/"
        },
        "id": "YP75oJDNFoGC",
        "outputId": "f5275856-c8d4-48c7-9f78-a74338e4bb19"
      },
      "outputs": [
        {
          "data": {
            "text/plain": [
              "array([10])"
            ]
          },
          "execution_count": 9,
          "metadata": {},
          "output_type": "execute_result"
        }
      ],
      "source": [
        "import numpy as np\n",
        "output= np.random.poisson(5, 1)\n",
        "output"
      ]
    },
    {
      "cell_type": "code",
      "execution_count": null,
      "metadata": {
        "id": "IRRk2BW6yl8f"
      },
      "outputs": [],
      "source": [
        "from matplotlib import pyplot as plt"
      ]
    }
  ],
  "metadata": {
    "colab": {
      "provenance": [],
      "authorship_tag": "ABX9TyOEoh4rbZHUhEmW7SPcaeU9",
      "include_colab_link": true
    },
    "kernelspec": {
      "display_name": "Python 3",
      "name": "python3"
    },
    "language_info": {
      "name": "python"
    }
  },
  "nbformat": 4,
  "nbformat_minor": 0
}