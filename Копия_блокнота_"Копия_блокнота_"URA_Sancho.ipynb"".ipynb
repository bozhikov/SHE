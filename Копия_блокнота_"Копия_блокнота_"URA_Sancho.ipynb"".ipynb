{
  "nbformat": 4,
  "nbformat_minor": 0,
  "metadata": {
    "colab": {
      "provenance": [],
      "collapsed_sections": [],
      "mount_file_id": "1mUDgwkDJ_UtYYia98K4VUe1WN5K8EVdL",
      "authorship_tag": "ABX9TyPJNP9tUvL1glTefPEKYoLD",
      "include_colab_link": true
    },
    "kernelspec": {
      "name": "python3",
      "display_name": "Python 3"
    },
    "language_info": {
      "name": "python"
    }
  },
  "cells": [
    {
      "cell_type": "markdown",
      "metadata": {
        "id": "view-in-github",
        "colab_type": "text"
      },
      "source": [
        "<a href=\"https://colab.research.google.com/github/bozhikov/SHE/blob/main/%D0%9A%D0%BE%D0%BF%D0%B8%D1%8F_%D0%B1%D0%BB%D0%BE%D0%BA%D0%BD%D0%BE%D1%82%D0%B0_%22%D0%9A%D0%BE%D0%BF%D0%B8%D1%8F_%D0%B1%D0%BB%D0%BE%D0%BA%D0%BD%D0%BE%D1%82%D0%B0_%22URA_Sancho.ipynb%22%22.ipynb\" target=\"_parent\"><img src=\"https://colab.research.google.com/assets/colab-badge.svg\" alt=\"Open In Colab\"/></a>"
      ]
    },
    {
      "cell_type": "code",
      "execution_count": 135,
      "metadata": {
        "id": "S7noQphkd32l"
      },
      "outputs": [],
      "source": [
        "path='/content/170ER09.000'\n",
        "ab=open(path,'rb')\n",
        "abv=ab.read()\n",
        "\n"
      ]
    },
    {
      "cell_type": "code",
      "source": [
        "class input_file:\n",
        "  ID,Time,TTime,TTTime,TTTTime,F,A,FF,AA,FFF,AAA,FFFF,AAAA,Time_tot,Ftot,Atot=[],[],[],[],[],[],[],[],[],[],[],[],[],[],[],[]\n",
        "  def  __init__(self,Currid_1byte,Time_hbyte,Time_lbyte,F_hbyte,F_lbyte,A_hbyte,A_lbyte):\n",
        "       #ff=[] \n",
        "       self.Currid=Currid_1byte\n",
        "       self.ID.append(Currid_1byte)\n",
        "       self.Time_hbyte=Time_hbyte\n",
        "       self.Time.append(Time_hbyte)\n",
        "       self.Time_lbyte=Time_lbyte\n",
        "       self.Time.append(Time_lbyte)\n",
        "       self.F_hbyte=F_hbyte\n",
        "       self.F.append(F_hbyte)\n",
        "       self.F_lbyte=F_lbyte\n",
        "       self.F.append(F_lbyte)\n",
        "       self.A_hbyte=A_hbyte\n",
        "       self.A.append(A_hbyte)\n",
        "       self.A_lbyte=A_lbyte\n",
        "       self.A.append(A_lbyte)\n",
        "   #convert to :\n",
        "  def data_bin(self):\n",
        "     for F in self.F:\n",
        "       self.FF.append(bin(F))\n",
        "     for A in self.A:\n",
        "       self.AA.append(bin(A))\n",
        "     for Time in self.Time:\n",
        "       self.TTime.append(bin(Time))\n",
        "  def convertor(self):\n",
        "    import string\n",
        "    for i in range(len(self.FF)):\n",
        "      self.FFF.append(str(self.FF[i]).lstrip('0b'))\n",
        "    for j in range(len(self.AA)):\n",
        "      self.AAA.append(str(self.AA[j]).lstrip('0b'))\n",
        "    for k in range(len(self.TTime)):\n",
        "      self.TTTime.append(str(self.TTime[k]).lstrip('0b'))\n",
        "    for FFF in self.FFF:\n",
        "      self.FFFF.append(FFF.zfill(8))\n",
        "    for AAA in self.AAA: \n",
        "      self.AAAA.append(AAA.zfill(8))\n",
        "    for TTTime in self.TTTime:\n",
        "      self.TTTTime.append(TTTime.zfill(8))\n",
        "    \n",
        "  def total_join_data(self):\n",
        "    for l in range(0,len(self.FFFF)-1,2):\n",
        "      self.Ftot.append(self.FFFF[l]+self.FFFF[l+1])\n",
        "    for m in range(0,len(self.AAAA)-1,2):\n",
        "      self.Atot.append(self.AAAA[m]+self.AAAA[m+1])\n",
        "    for n in range(0,len(self.TTTTime)-1,2):\n",
        "      self.Time_tot.append(self.TTTTime[n]+self.TTTTime[n+1])\n",
        " \n",
        "    \n"
      ],
      "metadata": {
        "id": "CsqYbcGqd3S-"
      },
      "execution_count": 136,
      "outputs": []
    },
    {
      "cell_type": "code",
      "source": [
        "for i in range(0,len(abv),8):\n",
        "  s=input_file(abv[i],abv[i+3],abv[i+2],abv[i+5],abv[i+4],abv[i+7],abv[i+6])\n"
      ],
      "metadata": {
        "id": "ooZ1l--K_kaP"
      },
      "execution_count": 137,
      "outputs": []
    },
    {
      "cell_type": "code",
      "source": [
        "s.data_bin()"
      ],
      "metadata": {
        "id": "XNDvmhaXFaKH"
      },
      "execution_count": 138,
      "outputs": []
    },
    {
      "cell_type": "code",
      "source": [
        "s.convertor()"
      ],
      "metadata": {
        "id": "utmIVlpqW51d"
      },
      "execution_count": 139,
      "outputs": []
    },
    {
      "cell_type": "code",
      "source": [
        "s.total_join_data()"
      ],
      "metadata": {
        "id": "DGaslt95jO7x"
      },
      "execution_count": 140,
      "outputs": []
    },
    {
      "cell_type": "code",
      "source": [
        "class Spectroscopy_Data():\n",
        "  ID_,Time_,N_Strip,E_Fis,E_alfa,Time_abs=[],[],[],[],[],[]\n",
        "  def __init__(self,ID,Time,Ftot,Atot):\n",
        "\n",
        "\n",
        "      self.ID=ID\n",
        "      self.ID_.append(ID)\n",
        "      self.Time=Time\n",
        "      value_time=int(Time,2)\n",
        "      self.Time_.append(value_time)\n",
        "      self.Ftot=Ftot\n",
        "      value1_Ftot=int(Ftot[0:4],2)\n",
        "      value2_Ftot=int(Ftot[5:16],2)\n",
        "      self.N_Strip.append(value1_Ftot)\n",
        "      self.E_Fis.append(value2_Ftot)\n",
        "      self.Atot=Atot\n",
        "      value1_E_alfa=int(Atot[5:16],2)\n",
        "      self.E_alfa.append(value1_E_alfa)\n",
        "      \n",
        "  def Time_setings(self):\n",
        "      w=0\n",
        "      c=-1\n",
        "      for ID_ in self.ID_:\n",
        "            c=c+1   \n",
        "            if (ID_ ==10):\n",
        "              w=w+1\n",
        "              value_temtime= self.Time_[c]+w*65536\n",
        "              self.Time_abs.append(value_temtime)\n",
        "\n",
        "            else:\n",
        "                self.Time_abs.append(self.Time_[c]+w*65536)\n",
        "              \n",
        "\n",
        "      \n",
        "\n",
        "      \n",
        "\n",
        "\n",
        "\n"
      ],
      "metadata": {
        "id": "P1cUuU6Skrfo"
      },
      "execution_count": 124,
      "outputs": []
    },
    {
      "cell_type": "code",
      "source": [
        "for q in range(0,len(s.ID),1):\n",
        "  zy=Spectroscopy_Data(s.ID[q],s.Time_tot[q],s.Ftot[q],s.Atot[q])\n"
      ],
      "metadata": {
        "id": "sgsW_q_QZpnW"
      },
      "execution_count": 141,
      "outputs": []
    },
    {
      "cell_type": "code",
      "source": [
        "zy.Time_setings()"
      ],
      "metadata": {
        "id": "jFk03Fi7vBj-"
      },
      "execution_count": 142,
      "outputs": []
    },
    {
      "cell_type": "code",
      "source": [
        "len(zy.ID_)"
      ],
      "metadata": {
        "colab": {
          "base_uri": "https://localhost:8080/"
        },
        "id": "WMS0OyK5vdau",
        "outputId": "3c7eb469-37ef-4773-9576-4e253d860bab"
      },
      "execution_count": 133,
      "outputs": [
        {
          "output_type": "execute_result",
          "data": {
            "text/plain": [
              "383273"
            ]
          },
          "metadata": {},
          "execution_count": 133
        }
      ]
    },
    {
      "cell_type": "code",
      "source": [
        "s.Atot[191635]\n",
        "   \n"
      ],
      "metadata": {
        "colab": {
          "base_uri": "https://localhost:8080/",
          "height": 35
        },
        "id": "A4PC0m0VffiS",
        "outputId": "4b92912b-ccaa-4ec7-a772-3b49ab0f9471"
      },
      "execution_count": null,
      "outputs": [
        {
          "output_type": "execute_result",
          "data": {
            "text/plain": [
              "'0100000100110100'"
            ],
            "application/vnd.google.colaboratory.intrinsic+json": {
              "type": "string"
            }
          },
          "metadata": {},
          "execution_count": 191
        }
      ]
    },
    {
      "cell_type": "code",
      "source": [
        "len(s.TTTTime)"
      ],
      "metadata": {
        "colab": {
          "base_uri": "https://localhost:8080/"
        },
        "id": "vMzl6Y6oW4aU",
        "outputId": "682755cf-e824-45db-c430-03a71dd6be79"
      },
      "execution_count": null,
      "outputs": [
        {
          "output_type": "execute_result",
          "data": {
            "text/plain": [
              "766546"
            ]
          },
          "metadata": {},
          "execution_count": 9
        }
      ]
    },
    {
      "cell_type": "code",
      "source": [
        "len(s.FFFF)"
      ],
      "metadata": {
        "colab": {
          "base_uri": "https://localhost:8080/"
        },
        "id": "QvAo9jkYjhAH",
        "outputId": "e9a40387-90fc-445f-f1a3-9298a4358d03"
      },
      "execution_count": null,
      "outputs": [
        {
          "output_type": "execute_result",
          "data": {
            "text/plain": [
              "766546"
            ]
          },
          "metadata": {},
          "execution_count": 16
        }
      ]
    },
    {
      "cell_type": "code",
      "source": [
        "(len(s.Atot))"
      ],
      "metadata": {
        "colab": {
          "base_uri": "https://localhost:8080/"
        },
        "id": "CGWUasFqjnlg",
        "outputId": "bdec2d40-2f25-41b0-be68-ddf1cfcd5885"
      },
      "execution_count": null,
      "outputs": [
        {
          "output_type": "execute_result",
          "data": {
            "text/plain": [
              "191636"
            ]
          },
          "metadata": {},
          "execution_count": 194
        }
      ]
    },
    {
      "cell_type": "code",
      "source": [
        "len(s.Time)"
      ],
      "metadata": {
        "colab": {
          "base_uri": "https://localhost:8080/"
        },
        "id": "KB9jQ3rvftdQ",
        "outputId": "af3d5798-cc92-4f78-bc26-795ee8f440b0"
      },
      "execution_count": null,
      "outputs": [
        {
          "output_type": "execute_result",
          "data": {
            "text/plain": [
              "766546"
            ]
          },
          "metadata": {},
          "execution_count": 33
        }
      ]
    },
    {
      "cell_type": "code",
      "source": [
        "import string"
      ],
      "metadata": {
        "id": "hwR8leELRS-4"
      },
      "execution_count": null,
      "outputs": []
    },
    {
      "cell_type": "code",
      "source": [
        "s.FF[766545]"
      ],
      "metadata": {
        "colab": {
          "base_uri": "https://localhost:8080/",
          "height": 35
        },
        "id": "8svlFCi9PEW4",
        "outputId": "9b625bb8-514a-4cdd-8a3d-810ad568189c"
      },
      "execution_count": null,
      "outputs": [
        {
          "output_type": "execute_result",
          "data": {
            "text/plain": [
              "'0b1100110'"
            ],
            "application/vnd.google.colaboratory.intrinsic+json": {
              "type": "string"
            }
          },
          "metadata": {},
          "execution_count": 65
        }
      ]
    },
    {
      "cell_type": "code",
      "source": [
        "FFF=str(s.FF[766544]).lstrip('0b')"
      ],
      "metadata": {
        "id": "4OuLtuaIWQbL"
      },
      "execution_count": null,
      "outputs": []
    },
    {
      "cell_type": "code",
      "source": [
        "FFFF=FFF.zfill(8)"
      ],
      "metadata": {
        "id": "dpMYfMc5R8fG"
      },
      "execution_count": null,
      "outputs": []
    },
    {
      "cell_type": "code",
      "source": [
        "len(FFFF)"
      ],
      "metadata": {
        "colab": {
          "base_uri": "https://localhost:8080/"
        },
        "id": "rQMyZNiZssyX",
        "outputId": "881893b5-e52d-45cd-aa70-d8fd22117121"
      },
      "execution_count": null,
      "outputs": [
        {
          "output_type": "execute_result",
          "data": {
            "text/plain": [
              "8"
            ]
          },
          "metadata": {},
          "execution_count": 71
        }
      ]
    },
    {
      "cell_type": "code",
      "source": [
        "#@title\n",
        "import pandas as pd\n",
        "abv= ab.read()\n",
        "abv"
      ],
      "metadata": {
        "id": "5b_3u2yof9UW",
        "colab": {
          "base_uri": "https://localhost:8080/",
          "height": 339
        },
        "outputId": "977f0f64-eaa5-4291-ec69-7b918d9bffe2"
      },
      "execution_count": null,
      "outputs": [
        {
          "output_type": "error",
          "ename": "UnicodeDecodeError",
          "evalue": "ignored",
          "traceback": [
            "\u001b[0;31m---------------------------------------------------------------------------\u001b[0m",
            "\u001b[0;31mUnicodeDecodeError\u001b[0m                        Traceback (most recent call last)",
            "\u001b[0;32m<ipython-input-18-696dd629169c>\u001b[0m in \u001b[0;36m<module>\u001b[0;34m\u001b[0m\n\u001b[1;32m      1\u001b[0m \u001b[0;31m#@title\u001b[0m\u001b[0;34m\u001b[0m\u001b[0;34m\u001b[0m\u001b[0;34m\u001b[0m\u001b[0m\n\u001b[1;32m      2\u001b[0m \u001b[0;32mimport\u001b[0m \u001b[0mpandas\u001b[0m \u001b[0;32mas\u001b[0m \u001b[0mpd\u001b[0m\u001b[0;34m\u001b[0m\u001b[0;34m\u001b[0m\u001b[0m\n\u001b[0;32m----> 3\u001b[0;31m \u001b[0mabv\u001b[0m\u001b[0;34m=\u001b[0m \u001b[0mab\u001b[0m\u001b[0;34m.\u001b[0m\u001b[0mread\u001b[0m\u001b[0;34m(\u001b[0m\u001b[0;34m)\u001b[0m\u001b[0;34m\u001b[0m\u001b[0;34m\u001b[0m\u001b[0m\n\u001b[0m\u001b[1;32m      4\u001b[0m \u001b[0mabv\u001b[0m\u001b[0;34m\u001b[0m\u001b[0;34m\u001b[0m\u001b[0m\n",
            "\u001b[0;32m/usr/lib/python3.7/codecs.py\u001b[0m in \u001b[0;36mdecode\u001b[0;34m(self, input, final)\u001b[0m\n\u001b[1;32m    320\u001b[0m         \u001b[0;31m# decode input (taking the buffer into account)\u001b[0m\u001b[0;34m\u001b[0m\u001b[0;34m\u001b[0m\u001b[0;34m\u001b[0m\u001b[0m\n\u001b[1;32m    321\u001b[0m         \u001b[0mdata\u001b[0m \u001b[0;34m=\u001b[0m \u001b[0mself\u001b[0m\u001b[0;34m.\u001b[0m\u001b[0mbuffer\u001b[0m \u001b[0;34m+\u001b[0m \u001b[0minput\u001b[0m\u001b[0;34m\u001b[0m\u001b[0;34m\u001b[0m\u001b[0m\n\u001b[0;32m--> 322\u001b[0;31m         \u001b[0;34m(\u001b[0m\u001b[0mresult\u001b[0m\u001b[0;34m,\u001b[0m \u001b[0mconsumed\u001b[0m\u001b[0;34m)\u001b[0m \u001b[0;34m=\u001b[0m \u001b[0mself\u001b[0m\u001b[0;34m.\u001b[0m\u001b[0m_buffer_decode\u001b[0m\u001b[0;34m(\u001b[0m\u001b[0mdata\u001b[0m\u001b[0;34m,\u001b[0m \u001b[0mself\u001b[0m\u001b[0;34m.\u001b[0m\u001b[0merrors\u001b[0m\u001b[0;34m,\u001b[0m \u001b[0mfinal\u001b[0m\u001b[0;34m)\u001b[0m\u001b[0;34m\u001b[0m\u001b[0;34m\u001b[0m\u001b[0m\n\u001b[0m\u001b[1;32m    323\u001b[0m         \u001b[0;31m# keep undecoded input until the next call\u001b[0m\u001b[0;34m\u001b[0m\u001b[0;34m\u001b[0m\u001b[0;34m\u001b[0m\u001b[0m\n\u001b[1;32m    324\u001b[0m         \u001b[0mself\u001b[0m\u001b[0;34m.\u001b[0m\u001b[0mbuffer\u001b[0m \u001b[0;34m=\u001b[0m \u001b[0mdata\u001b[0m\u001b[0;34m[\u001b[0m\u001b[0mconsumed\u001b[0m\u001b[0;34m:\u001b[0m\u001b[0;34m]\u001b[0m\u001b[0;34m\u001b[0m\u001b[0;34m\u001b[0m\u001b[0m\n",
            "\u001b[0;31mUnicodeDecodeError\u001b[0m: 'utf-8' codec can't decode byte 0xb5 in position 28: invalid start byte"
          ]
        }
      ]
    },
    {
      "cell_type": "markdown",
      "source": [
        "Spectroscopy LOOP"
      ],
      "metadata": {
        "id": "LjWx_nUZZoh8"
      }
    },
    {
      "cell_type": "code",
      "source": [
        "s=abv['draft1']\n",
        "s[3]"
      ],
      "metadata": {
        "id": "bQUFl_xxo_Bi",
        "outputId": "ef119409-2782-44f0-8057-725603c37da8",
        "colab": {
          "base_uri": "https://localhost:8080/"
        }
      },
      "execution_count": null,
      "outputs": [
        {
          "output_type": "execute_result",
          "data": {
            "text/plain": [
              "32.5054445228847"
            ]
          },
          "metadata": {},
          "execution_count": 43
        }
      ]
    },
    {
      "cell_type": "code",
      "source": [
        "s[2]+s[4]"
      ],
      "metadata": {
        "colab": {
          "base_uri": "https://localhost:8080/"
        },
        "id": "2qXcOMDNjSAp",
        "outputId": "42310a11-0e1a-4a64-9ade-e71b9d805120"
      },
      "execution_count": null,
      "outputs": [
        {
          "output_type": "execute_result",
          "data": {
            "text/plain": [
              "65.1570400467217"
            ]
          },
          "metadata": {},
          "execution_count": 44
        }
      ]
    },
    {
      "cell_type": "code",
      "source": [],
      "metadata": {
        "id": "4FvIQyjqpaeK"
      },
      "execution_count": null,
      "outputs": []
    },
    {
      "cell_type": "markdown",
      "source": [
        "Spectroscopy Loop"
      ],
      "metadata": {
        "id": "AnuNz6YegSgH"
      }
    },
    {
      "cell_type": "code",
      "source": [
        "class Counts_data:\n",
        "  def __init__(self,Currid, Time, Strip, E):\n",
        "    self.Currid =Currid;\n",
        "    self.Time = Time;\n",
        "    self.Strip = Strip;\n",
        "    self.E = E;\n",
        "    def Determine_data(self,*abv):\n",
        "     self.Time = str(abv).lstrip('0b')\n",
        "    \n",
        "    return self.Time\n",
        "\n",
        "Counts_data(20,2,4,34)"
      ],
      "metadata": {
        "id": "WdA2pNsjq2jB",
        "colab": {
          "base_uri": "https://localhost:8080/",
          "height": 200
        },
        "outputId": "c103f75a-e68f-4ff9-af50-8ef9cf8f4107"
      },
      "execution_count": null,
      "outputs": [
        {
          "output_type": "error",
          "ename": "TypeError",
          "evalue": "ignored",
          "traceback": [
            "\u001b[0;31m---------------------------------------------------------------------------\u001b[0m",
            "\u001b[0;31mTypeError\u001b[0m                                 Traceback (most recent call last)",
            "\u001b[0;32m<ipython-input-15-4cbbc6ba2f60>\u001b[0m in \u001b[0;36m<module>\u001b[0;34m\u001b[0m\n\u001b[1;32m     10\u001b[0m     \u001b[0;32mreturn\u001b[0m \u001b[0mself\u001b[0m\u001b[0;34m.\u001b[0m\u001b[0mTime\u001b[0m\u001b[0;34m\u001b[0m\u001b[0;34m\u001b[0m\u001b[0m\n\u001b[1;32m     11\u001b[0m \u001b[0;34m\u001b[0m\u001b[0m\n\u001b[0;32m---> 12\u001b[0;31m \u001b[0mCounts_data\u001b[0m\u001b[0;34m(\u001b[0m\u001b[0;36m20\u001b[0m\u001b[0;34m,\u001b[0m\u001b[0;36m2\u001b[0m\u001b[0;34m,\u001b[0m\u001b[0;36m4\u001b[0m\u001b[0;34m,\u001b[0m\u001b[0;36m34\u001b[0m\u001b[0;34m)\u001b[0m\u001b[0;34m\u001b[0m\u001b[0;34m\u001b[0m\u001b[0m\n\u001b[0m",
            "\u001b[0;31mTypeError\u001b[0m: __init__() should return None, not 'int'"
          ]
        }
      ]
    },
    {
      "cell_type": "code",
      "source": [
        "a=list(abv)\n",
        "\n"
      ],
      "metadata": {
        "id": "lsZxgCKhadTo"
      },
      "execution_count": null,
      "outputs": []
    },
    {
      "cell_type": "code",
      "source": [
        "abv1=list(abv)\n",
        "abv1[0]"
      ],
      "metadata": {
        "colab": {
          "base_uri": "https://localhost:8080/"
        },
        "id": "WiztqqpjN692",
        "outputId": "af00d61f-08ef-4b2d-829c-f53cc3ef4ae7"
      },
      "execution_count": null,
      "outputs": [
        {
          "output_type": "execute_result",
          "data": {
            "text/plain": [
              "1"
            ]
          },
          "metadata": {},
          "execution_count": 102
        }
      ]
    },
    {
      "cell_type": "code",
      "source": [
        "class Protocol:\n",
        "  print('Insurte protocol')\n",
        "# input protocol\n",
        "# determine ID\n",
        "  def __init__(self,Currid):\n",
        "\n",
        "    self.Currid=[]\n",
        "    t=0\n",
        "    for y in abv1:\n",
        "     t=t\n",
        "    Currid=abv1[t]\n",
        "\n",
        "# Her\n",
        "     \n",
        "  def Descriptor(self,TTop,FTop,ATop):\n",
        "    self.TTop=10\n",
        "    self.FTop=[]\n",
        "    self.ATop=[]"
      ],
      "metadata": {
        "colab": {
          "base_uri": "https://localhost:8080/"
        },
        "id": "dHHYyyxB4Vnk",
        "outputId": "afd2bd48-53ce-4564-8722-e47af91b8f36"
      },
      "execution_count": null,
      "outputs": [
        {
          "output_type": "stream",
          "name": "stdout",
          "text": [
            "Insurte protocol\n"
          ]
        }
      ]
    },
    {
      "cell_type": "markdown",
      "source": [
        "# Новый раздел"
      ],
      "metadata": {
        "id": "BHAmLy9zmItg"
      }
    },
    {
      "cell_type": "code",
      "source": [
        "z=Protocol(abv)\n",
        "z.TTop"
      ],
      "metadata": {
        "colab": {
          "base_uri": "https://localhost:8080/",
          "height": 183
        },
        "id": "HBTXadfWramk",
        "outputId": "1e57acb5-cc32-4158-ad7b-7c642450ce8a"
      },
      "execution_count": null,
      "outputs": [
        {
          "output_type": "error",
          "ename": "AttributeError",
          "evalue": "ignored",
          "traceback": [
            "\u001b[0;31m---------------------------------------------------------------------------\u001b[0m",
            "\u001b[0;31mAttributeError\u001b[0m                            Traceback (most recent call last)",
            "\u001b[0;32m<ipython-input-166-dfb5df6f7dba>\u001b[0m in \u001b[0;36m<module>\u001b[0;34m\u001b[0m\n\u001b[1;32m      1\u001b[0m \u001b[0mz\u001b[0m\u001b[0;34m=\u001b[0m\u001b[0mProtocol\u001b[0m\u001b[0;34m(\u001b[0m\u001b[0mabv\u001b[0m\u001b[0;34m)\u001b[0m\u001b[0;34m\u001b[0m\u001b[0;34m\u001b[0m\u001b[0m\n\u001b[0;32m----> 2\u001b[0;31m \u001b[0mz\u001b[0m\u001b[0;34m.\u001b[0m\u001b[0mTTop\u001b[0m\u001b[0;34m\u001b[0m\u001b[0;34m\u001b[0m\u001b[0m\n\u001b[0m",
            "\u001b[0;31mAttributeError\u001b[0m: 'Protocol' object has no attribute 'TTop'"
          ]
        }
      ]
    },
    {
      "cell_type": "code",
      "source": [],
      "metadata": {
        "id": "mP_PIJ45xyN6"
      },
      "execution_count": null,
      "outputs": []
    },
    {
      "cell_type": "markdown",
      "source": [
        "[Текст ссылки](https://)# to open bynary fails"
      ],
      "metadata": {
        "id": "WXOBd4NJfQof"
      }
    },
    {
      "cell_type": "markdown",
      "source": [],
      "metadata": {
        "id": "a-p5Wfnhl-sp"
      }
    },
    {
      "cell_type": "code",
      "source": [
        "path='/randomdata_250222 (1).xlsx'"
      ],
      "metadata": {
        "id": "7aQUmB5Bv9So"
      },
      "execution_count": null,
      "outputs": []
    },
    {
      "cell_type": "code",
      "source": [
        "data1=pd.read_excel(path,sheet_name=1,usecols=[7,8])"
      ],
      "metadata": {
        "id": "RAiwexXtwkeI"
      },
      "execution_count": null,
      "outputs": []
    },
    {
      "cell_type": "code",
      "source": [
        "print(data1)"
      ],
      "metadata": {
        "id": "qq3vhG-Aw5UJ",
        "outputId": "497c5644-fe32-4c92-dc40-3f5a4c763596",
        "colab": {
          "base_uri": "https://localhost:8080/"
        }
      },
      "execution_count": null,
      "outputs": [
        {
          "output_type": "stream",
          "name": "stdout",
          "text": [
            "   34.482384  33.140733  33.140011  32.323887  32.023198  33.368251  \\\n",
            "0  32.542978  33.160010  32.439330  31.761147  33.801132  33.304248   \n",
            "1  32.795069  31.945372  32.370778  33.122488  32.354443  32.963448   \n",
            "2  32.673130  32.612449  32.505445  32.256014  32.821697  32.492202   \n",
            "3  33.117446  32.515436  32.786262  34.026080  31.566236  32.452334   \n",
            "4  33.086105  32.091760  32.966322  33.356744  31.975881  33.582099   \n",
            "5  32.782067  33.334094  32.321941  32.636339  32.878964  34.109519   \n",
            "6  34.078097  32.117584  32.637722  31.775159  33.448407  32.873780   \n",
            "7  32.574171  32.561304  31.941075  32.234262  33.247773  32.787261   \n",
            "8  33.052918  32.875247  32.845885  32.854395  33.454851  32.802123   \n",
            "\n",
            "   32.733751  33.275458  32.327856  33.433411  ...  33.401760  32.930499  \\\n",
            "0  32.533154  32.932568  32.712923  31.924491  ...  32.564022  32.490947   \n",
            "1  34.125859  33.368971  33.523915  34.370611  ...  34.108799  32.281020   \n",
            "2  33.782787  33.010737  33.513681  32.770508  ...  33.799862  32.881082   \n",
            "3  32.739166  32.954896  31.718317  33.198603  ...  32.694056  32.083331   \n",
            "4  34.437881  31.862933  31.537345  32.813537  ...  32.758577  32.864159   \n",
            "5  33.153775  32.604440  32.715754  32.680619  ...  32.353305  33.013996   \n",
            "6  32.668422  31.758550  32.977396  32.693771  ...  32.372329  32.699808   \n",
            "7  33.349319  33.288734  33.100502  33.350658  ...  33.132623  32.832524   \n",
            "8  31.169667  32.548864  32.985421  33.474222  ...  33.346956  33.012269   \n",
            "\n",
            "   32.116895  32.605577  33.022748  33.632985  32.198533  33.688894  \\\n",
            "0  32.318580  31.696969  32.526092  32.963319  32.180441  33.148316   \n",
            "1  32.423423  34.151707  33.150780  32.833053  33.153227  32.690948   \n",
            "2  33.943186  33.164466  33.095859  34.262880  33.842838  33.440647   \n",
            "3  33.899712  33.099048  32.699429  32.267708  32.923143  33.937939   \n",
            "4  32.178651  31.807894  33.872192  33.047273  32.099931  33.548600   \n",
            "5  32.799427  33.367670  33.474041  33.555746  33.274188  33.264832   \n",
            "6  31.804792  32.743526  33.254040  32.618928  32.413257  33.054638   \n",
            "7  32.064952  32.536831  33.068545  32.148689  33.159638  33.066472   \n",
            "8  32.726641  32.875833  32.842022  32.949830  33.012055  32.430209   \n",
            "\n",
            "   34.631599  0.000000   \n",
            "0  32.685409          0  \n",
            "1   0.000000          0  \n",
            "2   0.000000          0  \n",
            "3  33.036166          0  \n",
            "4  32.029682          0  \n",
            "5   0.000000          0  \n",
            "6  33.564691          0  \n",
            "7  32.924014          0  \n",
            "8  32.191200          0  \n",
            "\n",
            "[9 rows x 22 columns]\n"
          ]
        }
      ]
    },
    {
      "cell_type": "code",
      "source": [
        "aaa=[]\n",
        "primes = [2, 3, 5]\n",
        "for prime in primes:\n",
        "    prime=prime*prime\n",
        "    \n",
        "    aaa.append(prime)\n",
        "aaa"
      ],
      "metadata": {
        "colab": {
          "base_uri": "https://localhost:8080/"
        },
        "id": "q8kGuvxkt9Fb",
        "outputId": "0fa0f8da-ea0b-48d9-e0c4-5b07a63a93d4"
      },
      "execution_count": null,
      "outputs": [
        {
          "output_type": "execute_result",
          "data": {
            "text/plain": [
              "[4, 9, 25]"
            ]
          },
          "metadata": {},
          "execution_count": 121
        }
      ]
    },
    {
      "cell_type": "code",
      "source": [
        "aaa[1]"
      ],
      "metadata": {
        "colab": {
          "base_uri": "https://localhost:8080/"
        },
        "id": "857tVkd7wrWL",
        "outputId": "4e8c4fc8-0edf-49ac-aab8-beade0a0b5bc"
      },
      "execution_count": null,
      "outputs": [
        {
          "output_type": "execute_result",
          "data": {
            "text/plain": [
              "9"
            ]
          },
          "metadata": {},
          "execution_count": 124
        }
      ]
    },
    {
      "cell_type": "code",
      "source": [
        "for a in range(len(abv),8):"
      ],
      "metadata": {
        "id": "4n6I6R-yIv_g"
      },
      "execution_count": null,
      "outputs": []
    }
  ]
}