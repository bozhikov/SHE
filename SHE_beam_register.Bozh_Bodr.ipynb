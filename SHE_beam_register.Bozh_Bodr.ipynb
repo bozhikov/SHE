{
  "nbformat": 4,
  "nbformat_minor": 0,
  "metadata": {
    "colab": {
      "provenance": [],
      "authorship_tag": "ABX9TyM7gvzeYwNqfbt7HVQuR2wh",
      "include_colab_link": true
    },
    "kernelspec": {
      "name": "python3",
      "display_name": "Python 3"
    },
    "language_info": {
      "name": "python"
    }
  },
  "cells": [
    {
      "cell_type": "markdown",
      "metadata": {
        "id": "view-in-github",
        "colab_type": "text"
      },
      "source": [
        "<a href=\"https://colab.research.google.com/github/bozhikov/SHE/blob/main/SHE_beam_register.Bozh_Bodr.ipynb\" target=\"_parent\"><img src=\"https://colab.research.google.com/assets/colab-badge.svg\" alt=\"Open In Colab\"/></a>"
      ]
    },
    {
      "cell_type": "code",
      "execution_count": null,
      "metadata": {
        "id": "F_FKr3VgBBkO"
      },
      "outputs": [],
      "source": []
    },
    {
      "cell_type": "code",
      "execution_count": 2,
      "metadata": {
        "id": "S7noQphkd32l",
        "colab": {
          "base_uri": "https://localhost:8080/"
        },
        "outputId": "fd0a44db-f36a-4591-f8ec-682920f431e0"
      },
      "outputs": [
        {
          "output_type": "execute_result",
          "data": {
            "text/plain": [
              "8389336"
            ]
          },
          "metadata": {},
          "execution_count": 2
        }
      ],
      "source": [
        "path='/content/OCT144SM25.002'\n",
        "ab=open(path,'rb')\n",
        "abv=ab.read()\n",
        "len(abv)\n",
        "\n"
      ]
    },
    {
      "cell_type": "code",
      "source": [
        "class input_file:\n",
        "  ID,Time,TTime,TTTime,TTTTime,F,A,FF,AA,FFF,AAA,FFFF,AAAA,Time_tot,Ftot,Atot=[],[],[],[],[],[],[],[],[],[],[],[],[],[],[],[]\n",
        "  def  __init__(self,Currid_1byte,Time_hbyte,Time_lbyte,F_hbyte,F_lbyte,A_hbyte,A_lbyte):\n",
        "       #ff=[] \n",
        "       self.Currid=Currid_1byte\n",
        "       self.ID.append(Currid_1byte)\n",
        "       self.Time_hbyte=Time_hbyte\n",
        "       self.Time.append(Time_hbyte)\n",
        "       self.Time_lbyte=Time_lbyte\n",
        "       self.Time.append(Time_lbyte)\n",
        "       self.F_hbyte=F_hbyte\n",
        "       self.F.append(F_hbyte)\n",
        "       self.F_lbyte=F_lbyte\n",
        "       self.F.append(F_lbyte)\n",
        "       self.A_hbyte=A_hbyte\n",
        "       self.A.append(A_hbyte)\n",
        "       self.A_lbyte=A_lbyte\n",
        "       self.A.append(A_lbyte)\n",
        "   #convert to :\n",
        "  def data_bin(self):\n",
        "     for F in self.F:\n",
        "       self.FF.append(bin(F))\n",
        "     for A in self.A:\n",
        "       self.AA.append(bin(A))\n",
        "     for Time in self.Time:\n",
        "       self.TTime.append(bin(Time))\n",
        "  def convertor(self):\n",
        "    import string\n",
        "    for i in range(len(self.FF)):\n",
        "      self.FFF.append(str(self.FF[i]).lstrip('0b'))\n",
        "    for j in range(len(self.AA)):\n",
        "      self.AAA.append(str(self.AA[j]).lstrip('0b'))\n",
        "    for k in range(len(self.TTime)):\n",
        "      self.TTTime.append(str(self.TTime[k]).lstrip('0b'))\n",
        "    for FFF in self.FFF:\n",
        "      self.FFFF.append(FFF.zfill(8))\n",
        "    for AAA in self.AAA: \n",
        "      self.AAAA.append(AAA.zfill(8))\n",
        "    for TTTime in self.TTTime:\n",
        "      self.TTTTime.append(TTTime.zfill(8))\n",
        "    \n",
        "  def total_join_data(self):\n",
        "    for l in range(0,len(self.FFFF)-1,2):\n",
        "      self.Ftot.append(self.FFFF[l]+self.FFFF[l+1])\n",
        "    for m in range(0,len(self.AAAA)-1,2):\n",
        "      self.Atot.append(self.AAAA[m]+self.AAAA[m+1])\n",
        "    for n in range(0,len(self.TTTTime)-1,2):\n",
        "      self.Time_tot.append(self.TTTTime[n]+self.TTTTime[n+1])\n",
        " \n",
        "    \n"
      ],
      "metadata": {
        "id": "CsqYbcGqd3S-"
      },
      "execution_count": 3,
      "outputs": []
    },
    {
      "cell_type": "code",
      "source": [
        "for i in range(0,(len(abv)),8):\n",
        "  s2=input_file(abv[i],abv[i+3],abv[i+2],abv[i+5],abv[i+4],abv[i+7],abv[i+6])\n"
      ],
      "metadata": {
        "id": "ooZ1l--K_kaP"
      },
      "execution_count": 4,
      "outputs": []
    },
    {
      "cell_type": "code",
      "source": [
        "s0.ID,s0.Time,s0.TTime,s0.TTTime,s0.TTTTime,s0.F,s0.A,s0.FF,s0.AA,s0.FFF,s0.AAA,s0.FFFF,s0.AAAA,s0.Time_tot,s0.Ftot,s0.Atot=0,0,0,0,0,0,0,0,0,0,0,0,0,0,0,0\n"
      ],
      "metadata": {
        "id": "0DIbJM4Lng07"
      },
      "execution_count": 80,
      "outputs": []
    },
    {
      "cell_type": "code",
      "source": [
        "s2.data_bin()"
      ],
      "metadata": {
        "id": "P1qXH6XntYGv"
      },
      "execution_count": 5,
      "outputs": []
    },
    {
      "cell_type": "code",
      "source": [
        "s2.convertor()"
      ],
      "metadata": {
        "id": "utmIVlpqW51d"
      },
      "execution_count": 6,
      "outputs": []
    },
    {
      "cell_type": "code",
      "source": [
        "s2.total_join_data()"
      ],
      "metadata": {
        "id": "DGaslt95jO7x"
      },
      "execution_count": 7,
      "outputs": []
    },
    {
      "cell_type": "code",
      "source": [
        "class Spectroscopy_Data():\n",
        "  ID_,Time_,N_Strip,E_Fis,E_alfa,Time_abs,ID_beam,beam,number_counter,ID_corr,E_alfa_corr,Time_abs_corr,beam_time,Time_E_corr=[],[],[],[],[],[],[],[],[],[],[],[],[],[]\n",
        "\n",
        "  def __init__(self,ID,Time,Ftot,Atot):\n",
        "\n",
        "\n",
        "      self.ID=ID\n",
        "      self.ID_.append(ID)\n",
        "      self.Time=Time\n",
        "      value_time=int(Time,2)\n",
        "      self.Time_.append(value_time)\n",
        "      self.Ftot=Ftot\n",
        "      value1_Ftot=int(Ftot[0:4],2)\n",
        "      value2_Ftot=int(Ftot[5:16],2)\n",
        "      self.N_Strip.append(value1_Ftot)\n",
        "      self.E_Fis.append(value2_Ftot)\n",
        "      self.Atot=Atot\n",
        "      value1_E_alfa=int(Atot[5:16],2)\n",
        "      value2_E_alfa=int(Atot[7:16],2)\n",
        "      self.E_alfa.append(value1_E_alfa)\n",
        "      self.ID_beam.append(value2_E_alfa)\n",
        "      \n",
        "  def Time_setings(self):\n",
        "      w=0\n",
        "      c=-1\n",
        "      for ID_ in self.ID_:\n",
        "            c=c+1   \n",
        "            if (ID_ ==10):\n",
        "              w=w+1\n",
        "              value_temtime= self.Time_[c]+w*65536\n",
        "              self.Time_abs.append(value_temtime)\n",
        "\n",
        "            else:\n",
        "                self.Time_abs.append(self.Time_[c]+w*65536)\n",
        "\n",
        "  def flow_time_selection(self,ch_1,ch_2): \n",
        "      self.ch_1=ch_1\n",
        "      self.ch_2=ch_2\n",
        "      cc=-1           \n",
        "      for E_alfa_corr in range(len(self.E_alfa_corr)):\n",
        "        cc=cc+1\n",
        "        if (self.E_alfa_corr[cc]>=ch_1) and (self.E_alfa_corr[cc]<=ch_2):\n",
        "          self.number_counter.append(1)\n",
        "          self.Time_E_corr.append(self.Time_abs_corr[cc])\n",
        "              \n",
        "             \n",
        "        \n",
        "\n",
        "\n",
        "  def beam_corr(self):\n",
        "    \n",
        "    beam_count=-1\n",
        "    for ID_ in self.ID_:\n",
        "      beam_count=beam_count+1\n",
        "      if ( ID_==9):\n",
        "          self.beam.append(self.ID_beam[beam_count])\n",
        "          self.beam_time.append(self.Time_abs[beam_count])\n",
        "      \n",
        "      \n",
        "  def Data_final_corr(self):\n",
        "    b=-1\n",
        "    \n",
        "    for ID_ in self.ID_:\n",
        "      b=b+1\n",
        "      if (ID_==1):\n",
        "        self.ID_corr.append(self.ID_[b])\n",
        "        self.Time_abs_corr.append(self.Time_abs[b])\n",
        "        self.E_alfa_corr.append(self.E_alfa[b])\n",
        "      \n",
        "\n",
        "      \n",
        "\n",
        "\n",
        "  \n",
        "\n",
        "\n",
        "      \n",
        "\n",
        "\n",
        "\n"
      ],
      "metadata": {
        "id": "P1cUuU6Skrfo"
      },
      "execution_count": 8,
      "outputs": []
    },
    {
      "cell_type": "code",
      "source": [
        "for q in range(0,len(s2.ID),1):\n",
        "  zy=Spectroscopy_Data(s2.ID[q],s2.Time_tot[q],s2.Ftot[q],s2.Atot[q])\n"
      ],
      "metadata": {
        "id": "sgsW_q_QZpnW"
      },
      "execution_count": 9,
      "outputs": []
    },
    {
      "cell_type": "code",
      "source": [
        "zy.ID_,zy.Time_,zy.N_Strip,zy.E_Fis,zy.E_alfa,zy.Time_abs,zy.ID_beam,zy.beam,zy.Time_E_corr,zy.number_counter,zy.ID_corr,zy.E_alfa_corr,zy.Time_abs_corr=0,0,0,0,0,0,0,0,0,0,0,0,0"
      ],
      "metadata": {
        "id": "JMi-J18Ks8Ah"
      },
      "execution_count": 73,
      "outputs": []
    },
    {
      "cell_type": "code",
      "source": [
        "len(zy.number_counter)"
      ],
      "metadata": {
        "id": "80oE9jyTSd9S",
        "colab": {
          "base_uri": "https://localhost:8080/"
        },
        "outputId": "74a8b6fe-e432-495c-9d4a-0c4fb8f278db"
      },
      "execution_count": 10,
      "outputs": [
        {
          "output_type": "execute_result",
          "data": {
            "text/plain": [
              "0"
            ]
          },
          "metadata": {},
          "execution_count": 10
        }
      ]
    },
    {
      "cell_type": "code",
      "source": [
        "zy.Time_setings()"
      ],
      "metadata": {
        "id": "A5ZzeugVmsLO"
      },
      "execution_count": 11,
      "outputs": []
    },
    {
      "cell_type": "code",
      "source": [
        "zy.beam_corr()"
      ],
      "metadata": {
        "id": "Sw0cH0ZnGUhx"
      },
      "execution_count": 12,
      "outputs": []
    },
    {
      "cell_type": "code",
      "source": [
        "zy.Data_final_corr()"
      ],
      "metadata": {
        "id": "BMhxcQCBPvOc"
      },
      "execution_count": 13,
      "outputs": []
    },
    {
      "cell_type": "code",
      "source": [
        "zy.flow_time_selection(1635,1675)"
      ],
      "metadata": {
        "id": "utJSd84BnEvF"
      },
      "execution_count": 14,
      "outputs": []
    },
    {
      "cell_type": "code",
      "source": [
        "len(zy.Time_E_corr)"
      ],
      "metadata": {
        "colab": {
          "base_uri": "https://localhost:8080/"
        },
        "id": "2SVTnpKUYkRT",
        "outputId": "2b1fabed-e20f-4fea-a11b-ac5c48b3fa9f"
      },
      "execution_count": 85,
      "outputs": [
        {
          "output_type": "execute_result",
          "data": {
            "text/plain": [
              "9183"
            ]
          },
          "metadata": {},
          "execution_count": 85
        }
      ]
    },
    {
      "cell_type": "code",
      "source": [
        "class data_tools():\n",
        "  number_time,Beam_Time,list_counter,bb=[],[],[],[]\n",
        "  \n",
        "  def __init__(self,*number_counter):\n",
        "    \n",
        "    self.number_counter=number_counter\n",
        "    self.number_time.append(number_counter)\n",
        "    #self.Time_of_E_corr=Time_of_E_corr\n",
        "  \n",
        "  def flow_time_determination_1(self,delta_t):\n",
        "    self.delta_t=delta_t\n",
        "\n",
        "  def flow_time_determination_2(self,*beam):\n",
        "    self.beam=beam\n",
        "    self.Beam_Time.append(beam)\n",
        "    \n",
        "        \n",
        "    \n",
        "    for b in range(len(self.Beam_Time[0][0])):\n",
        "\n",
        "      self.bb.append(b)\n",
        "      \n",
        "      if (self.Beam_Time[0][0][b]==1):\n",
        "        \n",
        "        temp_time =self.Beam_Time[0][1][b]+self.delta_t\n",
        "       \n",
        "        Ncb=sum( self.number_time[0][0][ccc] for ccc in range(len(self. number_time[0][0])) if  (self.Beam_Time[0][1][b]<self.number_time[0][1][ccc]) and (self.number_time[0][1][ccc]<=temp_time))\n",
        "        self.list_counter.append(Ncb)\n",
        "        #for number in self.nuber\n",
        "        #Ncb=self.number[ccc]++Ncb\n",
        "        #self.list_counter.append(Ncb)\n",
        "      \n",
        "      \n",
        "    \n",
        "     \n",
        "      \n"
      ],
      "metadata": {
        "id": "oINfitd-ae5o"
      },
      "execution_count": 156,
      "outputs": []
    },
    {
      "cell_type": "code",
      "source": [
        "zyy=data_tools(zy.number_counter,zy.Time_E_corr)"
      ],
      "metadata": {
        "id": "-rHCDrQXy-aE"
      },
      "execution_count": 157,
      "outputs": []
    },
    {
      "cell_type": "code",
      "source": [
        "number_counter=[1,1,1,1,1,1,1]\n",
        "Time_E_corr=[12,50,70,100,130,190,200]\n",
        "zyy=data_tools(number_counter,Time_E_corr)"
      ],
      "metadata": {
        "id": "EwFU4VcISgVw"
      },
      "execution_count": 143,
      "outputs": []
    },
    {
      "cell_type": "code",
      "source": [
        "zyy.number_time[0][1][6]"
      ],
      "metadata": {
        "colab": {
          "base_uri": "https://localhost:8080/"
        },
        "id": "ic9pFRuoTfV-",
        "outputId": "1009d72b-3c22-4ff8-a77c-72806245956e"
      },
      "execution_count": 156,
      "outputs": [
        {
          "output_type": "execute_result",
          "data": {
            "text/plain": [
              "200"
            ]
          },
          "metadata": {},
          "execution_count": 156
        }
      ]
    },
    {
      "cell_type": "code",
      "source": [
        "len(zyy. number_time[0][0])"
      ],
      "metadata": {
        "colab": {
          "base_uri": "https://localhost:8080/"
        },
        "id": "I0VG6mlLrHiB",
        "outputId": "bd49e318-d8a8-4fde-dc6b-3cc55a4b1d4d"
      },
      "execution_count": 20,
      "outputs": [
        {
          "output_type": "execute_result",
          "data": {
            "text/plain": [
              "9183"
            ]
          },
          "metadata": {},
          "execution_count": 20
        }
      ]
    },
    {
      "cell_type": "code",
      "source": [
        "zyy.flow_time_determination_1(15000000)"
      ],
      "metadata": {
        "id": "ZA18mNsWaoR6"
      },
      "execution_count": 158,
      "outputs": []
    },
    {
      "cell_type": "code",
      "source": [
        "zyy.flow_time_determination_2(zy.beam,zy.beam_time)"
      ],
      "metadata": {
        "id": "gJD5w97Cl2in"
      },
      "execution_count": 159,
      "outputs": []
    },
    {
      "cell_type": "code",
      "source": [
        "zyy.list_counter"
      ],
      "metadata": {
        "colab": {
          "base_uri": "https://localhost:8080/"
        },
        "id": "TXndRf3Tl5Mt",
        "outputId": "3e7a8156-1db7-4e3e-d2bb-3f11edd11f7d"
      },
      "execution_count": 161,
      "outputs": [
        {
          "output_type": "execute_result",
          "data": {
            "text/plain": [
              "[108,\n",
              " 98,\n",
              " 86,\n",
              " 114,\n",
              " 89,\n",
              " 116,\n",
              " 99,\n",
              " 103,\n",
              " 120,\n",
              " 92,\n",
              " 83,\n",
              " 90,\n",
              " 107,\n",
              " 113,\n",
              " 100,\n",
              " 97,\n",
              " 103,\n",
              " 75,\n",
              " 98,\n",
              " 95,\n",
              " 103,\n",
              " 120,\n",
              " 95,\n",
              " 107,\n",
              " 105,\n",
              " 66,\n",
              " 90,\n",
              " 105,\n",
              " 105,\n",
              " 130,\n",
              " 134,\n",
              " 106,\n",
              " 104,\n",
              " 102,\n",
              " 86,\n",
              " 40]"
            ]
          },
          "metadata": {},
          "execution_count": 161
        }
      ]
    },
    {
      "cell_type": "code",
      "source": [
        "len(zyy.bb)"
      ],
      "metadata": {
        "colab": {
          "base_uri": "https://localhost:8080/"
        },
        "id": "gV4v2eW8mOC9",
        "outputId": "fee56682-252f-475d-f577-c8778fd435fb"
      },
      "execution_count": 25,
      "outputs": [
        {
          "output_type": "execute_result",
          "data": {
            "text/plain": [
              "71"
            ]
          },
          "metadata": {},
          "execution_count": 25
        }
      ]
    },
    {
      "cell_type": "code",
      "source": [
        "indep_380=zyy.list_counter"
      ],
      "metadata": {
        "id": "EikdRU1nvyEb"
      },
      "execution_count": 89,
      "outputs": []
    },
    {
      "cell_type": "code",
      "source": [
        "indep_400=zyy.list_counter"
      ],
      "metadata": {
        "id": "3H-AH28Pwvip"
      },
      "execution_count": 98,
      "outputs": []
    },
    {
      "cell_type": "code",
      "source": [
        "indep_460=zyy.list_counter"
      ],
      "metadata": {
        "id": "gwHJAhCuyBeE"
      },
      "execution_count": 108,
      "outputs": []
    },
    {
      "cell_type": "code",
      "source": [
        "indep_560=zyy.list_counter"
      ],
      "metadata": {
        "id": "rKBBy-TSzHEq"
      },
      "execution_count": 116,
      "outputs": []
    },
    {
      "cell_type": "code",
      "source": [
        "indep_660=zyy.list_counter"
      ],
      "metadata": {
        "id": "L7fxXm-i00Aq"
      },
      "execution_count": 125,
      "outputs": []
    },
    {
      "cell_type": "code",
      "source": [
        "indep_720=zyy.list_counter"
      ],
      "metadata": {
        "id": "4um_j2bZ2CCC"
      },
      "execution_count": 135,
      "outputs": []
    },
    {
      "cell_type": "code",
      "source": [
        "indep_1000=zyy.list_counter"
      ],
      "metadata": {
        "id": "Rxm7G5fB27-5"
      },
      "execution_count": 144,
      "outputs": []
    },
    {
      "cell_type": "code",
      "source": [
        "indep_1440=zyy.list_counter"
      ],
      "metadata": {
        "id": "KbVOI6PU4Vmo"
      },
      "execution_count": 153,
      "outputs": []
    },
    {
      "cell_type": "code",
      "source": [
        "indep_1500=zyy.list_counter"
      ],
      "metadata": {
        "id": "HwvFZmtQ5r3y"
      },
      "execution_count": 162,
      "outputs": []
    },
    {
      "cell_type": "code",
      "source": [
        "len(zyy1.Beam_Time)"
      ],
      "metadata": {
        "colab": {
          "base_uri": "https://localhost:8080/"
        },
        "id": "6h2HkCw8fP9r",
        "outputId": "009a1deb-d434-42e9-92c6-c1da383db8f6"
      },
      "execution_count": 67,
      "outputs": [
        {
          "output_type": "execute_result",
          "data": {
            "text/plain": [
              "3"
            ]
          },
          "metadata": {},
          "execution_count": 67
        }
      ]
    },
    {
      "cell_type": "code",
      "source": [
        "zyy.number_time,zyy.beam_time,zyy.list_counter,zyy.bb=0,0,0,0"
      ],
      "metadata": {
        "id": "yze_pVowd_0l"
      },
      "execution_count": 155,
      "outputs": []
    },
    {
      "cell_type": "code",
      "source": [
        "zyy.number_time,zyy.beam_time,zyy2.list_counte,zyy1.bb"
      ],
      "metadata": {
        "colab": {
          "base_uri": "https://localhost:8080/",
          "height": 172
        },
        "id": "tINHCLgWutCU",
        "outputId": "379c1493-f8b1-4a26-9368-2b5aac728ab1"
      },
      "execution_count": 82,
      "outputs": [
        {
          "output_type": "error",
          "ename": "AttributeError",
          "evalue": "ignored",
          "traceback": [
            "\u001b[0;31m---------------------------------------------------------------------------\u001b[0m",
            "\u001b[0;31mAttributeError\u001b[0m                            Traceback (most recent call last)",
            "\u001b[0;32m<ipython-input-82-3a4576d84f2f>\u001b[0m in \u001b[0;36m<module>\u001b[0;34m\u001b[0m\n\u001b[0;32m----> 1\u001b[0;31m \u001b[0mzyy\u001b[0m\u001b[0;34m.\u001b[0m\u001b[0mnumber_time\u001b[0m\u001b[0;34m,\u001b[0m\u001b[0mzyy\u001b[0m\u001b[0;34m.\u001b[0m\u001b[0mbeam_time\u001b[0m\u001b[0;34m,\u001b[0m\u001b[0mzyy2\u001b[0m\u001b[0;34m.\u001b[0m\u001b[0mlist_counte\u001b[0m\u001b[0;34m,\u001b[0m\u001b[0mzyy1\u001b[0m\u001b[0;34m.\u001b[0m\u001b[0mbb\u001b[0m\u001b[0;34m\u001b[0m\u001b[0;34m\u001b[0m\u001b[0m\n\u001b[0m",
            "\u001b[0;31mAttributeError\u001b[0m: 'data_tools' object has no attribute 'list_counte'"
          ]
        }
      ]
    },
    {
      "cell_type": "code",
      "source": [
        "len(zyy.beam_)"
      ],
      "metadata": {
        "colab": {
          "base_uri": "https://localhost:8080/"
        },
        "id": "XcLaGrW61LWo",
        "outputId": "54a7cf27-118e-4540-9ee5-8d76f53134a7"
      },
      "execution_count": null,
      "outputs": [
        {
          "output_type": "execute_result",
          "data": {
            "text/plain": [
              "5245860"
            ]
          },
          "metadata": {},
          "execution_count": 143
        }
      ]
    },
    {
      "cell_type": "code",
      "source": [
        "import numpy as np\n",
        "import pandas as pd\n",
        "data1 = pd.Series(indep_400)\n"
      ],
      "metadata": {
        "id": "uLTdesQiXLJM"
      },
      "execution_count": 164,
      "outputs": []
    },
    {
      "cell_type": "code",
      "source": [
        "import numpy as np\n",
        "import pandas as pd\n",
        "data2 = pd.Series(indep_460)"
      ],
      "metadata": {
        "id": "0RHo-AGw6WFA"
      },
      "execution_count": 165,
      "outputs": []
    },
    {
      "cell_type": "code",
      "source": [
        "import numpy as np\n",
        "import pandas as pd\n",
        "data3 = pd.Series(indep_560)\n"
      ],
      "metadata": {
        "id": "6bzOf4jJ6c8H"
      },
      "execution_count": 166,
      "outputs": []
    },
    {
      "cell_type": "code",
      "source": [
        "data4 = pd.Series(indep_660)\n"
      ],
      "metadata": {
        "id": "ZpOL61gW6l-o"
      },
      "execution_count": 167,
      "outputs": []
    },
    {
      "cell_type": "code",
      "source": [
        "data5 = pd.Series(indep_720)"
      ],
      "metadata": {
        "id": "5CXZmkwt66Hg"
      },
      "execution_count": 168,
      "outputs": []
    },
    {
      "cell_type": "code",
      "source": [
        "data6 = pd.Series(indep_1000)"
      ],
      "metadata": {
        "id": "LuhvnErD7Ap_"
      },
      "execution_count": 169,
      "outputs": []
    },
    {
      "cell_type": "code",
      "source": [
        "data7 = pd.Series(indep_1440)"
      ],
      "metadata": {
        "id": "ywpKSiqd7FY3"
      },
      "execution_count": 170,
      "outputs": []
    },
    {
      "cell_type": "code",
      "source": [
        "data5 = pd.Series(indep_1500)"
      ],
      "metadata": {
        "id": "c9z7PL5i7LLH"
      },
      "execution_count": 171,
      "outputs": []
    },
    {
      "cell_type": "code",
      "source": [
        "data8 = pd.Series(indep_720)"
      ],
      "metadata": {
        "id": "hCA4ATMI8LlQ"
      },
      "execution_count": 173,
      "outputs": []
    },
    {
      "cell_type": "code",
      "source": [
        "data9= pd.Series(indep_1500)"
      ],
      "metadata": {
        "id": "lmelO_FH8RUm"
      },
      "execution_count": 174,
      "outputs": []
    },
    {
      "cell_type": "code",
      "source": [
        "from pandas.core.arrays.datetimelike import pd_array\n",
        "f1=pd_array(data1)"
      ],
      "metadata": {
        "id": "bKoz8R6-8vm3"
      },
      "execution_count": 177,
      "outputs": []
    },
    {
      "cell_type": "code",
      "source": [
        "f2=pd_array(data2)"
      ],
      "metadata": {
        "id": "NcywkSin9E63"
      },
      "execution_count": 178,
      "outputs": []
    },
    {
      "cell_type": "code",
      "source": [
        "f3=pd_array(data3)"
      ],
      "metadata": {
        "id": "krrPybMV9Q3_"
      },
      "execution_count": 179,
      "outputs": []
    },
    {
      "cell_type": "code",
      "source": [
        "f4=pd_array(data4)"
      ],
      "metadata": {
        "id": "Tbut3z6k9XzY"
      },
      "execution_count": 180,
      "outputs": []
    },
    {
      "cell_type": "code",
      "source": [
        "f6=pd_array(data6)"
      ],
      "metadata": {
        "id": "4GDTqgPR9es5"
      },
      "execution_count": 181,
      "outputs": []
    },
    {
      "cell_type": "code",
      "source": [
        "f9=pd_array(data9)"
      ],
      "metadata": {
        "id": "bMRxo929-omm"
      },
      "execution_count": 189,
      "outputs": []
    },
    {
      "cell_type": "code",
      "source": [
        "data1.sum()"
      ],
      "metadata": {
        "colab": {
          "base_uri": "https://localhost:8080/"
        },
        "id": "C2XLh1VA-btl",
        "outputId": "df437dba-2764-43b5-8028-609ecf59a71f"
      },
      "execution_count": null,
      "outputs": [
        {
          "output_type": "execute_result",
          "data": {
            "text/plain": [
              "0"
            ]
          },
          "metadata": {},
          "execution_count": 91
        }
      ]
    },
    {
      "cell_type": "code",
      "source": [
        "data_num_counts=pd.Series(zy.number_counter)\n",
        "data_num_counts.sum()"
      ],
      "metadata": {
        "colab": {
          "base_uri": "https://localhost:8080/"
        },
        "id": "MaQBDK0a70s_",
        "outputId": "9151f2a2-4986-4c10-ae35-d3b2a48e8752"
      },
      "execution_count": null,
      "outputs": [
        {
          "output_type": "execute_result",
          "data": {
            "text/plain": [
              "271864"
            ]
          },
          "metadata": {},
          "execution_count": 78
        }
      ]
    },
    {
      "cell_type": "code",
      "source": [
        "data2.sum()"
      ],
      "metadata": {
        "colab": {
          "base_uri": "https://localhost:8080/"
        },
        "id": "hp_IXXOm9Rk_",
        "outputId": "ae789ad3-30ca-40a9-cc4a-0e26bb6c8d0a"
      },
      "execution_count": null,
      "outputs": [
        {
          "output_type": "execute_result",
          "data": {
            "text/plain": [
              "543728"
            ]
          },
          "metadata": {},
          "execution_count": 86
        }
      ]
    },
    {
      "cell_type": "code",
      "source": [
        "print(np.cov(f6,f9))"
      ],
      "metadata": {
        "colab": {
          "base_uri": "https://localhost:8080/"
        },
        "id": "TNFIG-ZaXdDL",
        "outputId": "66715b97-ec90-4123-ff60-e884ae3c6f01"
      },
      "execution_count": 191,
      "outputs": [
        {
          "output_type": "stream",
          "name": "stdout",
          "text": [
            "[[178.55873016 224.40634921]\n",
            " [224.40634921 294.42539683]]\n"
          ]
        }
      ]
    },
    {
      "cell_type": "code",
      "source": [
        "data1.sum()"
      ],
      "metadata": {
        "colab": {
          "base_uri": "https://localhost:8080/"
        },
        "id": "5T_txUMw7BvO",
        "outputId": "d51cce17-023b-43d6-b2ad-6dd2ccd153dc"
      },
      "execution_count": null,
      "outputs": [
        {
          "output_type": "execute_result",
          "data": {
            "text/plain": [
              "0"
            ]
          },
          "metadata": {},
          "execution_count": 76
        }
      ]
    },
    {
      "cell_type": "code",
      "source": [
        "len(zy.number_counter)"
      ],
      "metadata": {
        "colab": {
          "base_uri": "https://localhost:8080/"
        },
        "id": "84wOqv9DjhHR",
        "outputId": "6a927e07-a4a5-42f7-f208-36ea5d46a0eb"
      },
      "execution_count": null,
      "outputs": [
        {
          "output_type": "execute_result",
          "data": {
            "text/plain": [
              "123403"
            ]
          },
          "metadata": {},
          "execution_count": 18
        }
      ]
    }
  ]
}