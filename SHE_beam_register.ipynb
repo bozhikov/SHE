{
  "nbformat": 4,
  "nbformat_minor": 0,
  "metadata": {
    "colab": {
      "provenance": [],
      "authorship_tag": "ABX9TyN8Aoqks5/9s6ao6IRIdEGK",
      "include_colab_link": true
    },
    "kernelspec": {
      "name": "python3",
      "display_name": "Python 3"
    },
    "language_info": {
      "name": "python"
    }
  },
  "cells": [
    {
      "cell_type": "markdown",
      "metadata": {
        "id": "view-in-github",
        "colab_type": "text"
      },
      "source": [
        "<a href=\"https://colab.research.google.com/github/bozhikov/SHE/blob/main/SHE_beam_register.ipynb\" target=\"_parent\"><img src=\"https://colab.research.google.com/assets/colab-badge.svg\" alt=\"Open In Colab\"/></a>"
      ]
    },
    {
      "cell_type": "code",
      "execution_count": null,
      "metadata": {
        "id": "F_FKr3VgBBkO"
      },
      "outputs": [],
      "source": []
    },
    {
      "cell_type": "code",
      "execution_count": 3,
      "metadata": {
        "id": "S7noQphkd32l",
        "colab": {
          "base_uri": "https://localhost:8080/"
        },
        "outputId": "202a3571-c7dc-4324-bda6-3049c841d602"
      },
      "outputs": [
        {
          "output_type": "execute_result",
          "data": {
            "text/plain": [
              "8389336"
            ]
          },
          "metadata": {},
          "execution_count": 3
        }
      ],
      "source": [
        "path='/content/OCT144SM25.002'\n",
        "ab=open(path,'rb')\n",
        "abv=ab.read()\n",
        "len(abv)\n",
        "\n"
      ]
    },
    {
      "cell_type": "code",
      "source": [
        "class input_file:\n",
        "  ID,Time,TTime,TTTime,TTTTime,F,A,FF,AA,FFF,AAA,FFFF,AAAA,Time_tot,Ftot,Atot=[],[],[],[],[],[],[],[],[],[],[],[],[],[],[],[]\n",
        "  def  __init__(self,Currid_1byte,Time_hbyte,Time_lbyte,F_hbyte,F_lbyte,A_hbyte,A_lbyte):\n",
        "       #ff=[] \n",
        "       self.Currid=Currid_1byte\n",
        "       self.ID.append(Currid_1byte)\n",
        "       self.Time_hbyte=Time_hbyte\n",
        "       self.Time.append(Time_hbyte)\n",
        "       self.Time_lbyte=Time_lbyte\n",
        "       self.Time.append(Time_lbyte)\n",
        "       self.F_hbyte=F_hbyte\n",
        "       self.F.append(F_hbyte)\n",
        "       self.F_lbyte=F_lbyte\n",
        "       self.F.append(F_lbyte)\n",
        "       self.A_hbyte=A_hbyte\n",
        "       self.A.append(A_hbyte)\n",
        "       self.A_lbyte=A_lbyte\n",
        "       self.A.append(A_lbyte)\n",
        "   #convert to :\n",
        "  def data_bin(self):\n",
        "     for F in self.F:\n",
        "       self.FF.append(bin(F))\n",
        "     for A in self.A:\n",
        "       self.AA.append(bin(A))\n",
        "     for Time in self.Time:\n",
        "       self.TTime.append(bin(Time))\n",
        "  def convertor(self):\n",
        "    import string\n",
        "    for i in range(len(self.FF)):\n",
        "      self.FFF.append(str(self.FF[i]).lstrip('0b'))\n",
        "    for j in range(len(self.AA)):\n",
        "      self.AAA.append(str(self.AA[j]).lstrip('0b'))\n",
        "    for k in range(len(self.TTime)):\n",
        "      self.TTTime.append(str(self.TTime[k]).lstrip('0b'))\n",
        "    for FFF in self.FFF:\n",
        "      self.FFFF.append(FFF.zfill(8))\n",
        "    for AAA in self.AAA: \n",
        "      self.AAAA.append(AAA.zfill(8))\n",
        "    for TTTime in self.TTTime:\n",
        "      self.TTTTime.append(TTTime.zfill(8))\n",
        "    \n",
        "  def total_join_data(self):\n",
        "    for l in range(0,len(self.FFFF)-1,2):\n",
        "      self.Ftot.append(self.FFFF[l]+self.FFFF[l+1])\n",
        "    for m in range(0,len(self.AAAA)-1,2):\n",
        "      self.Atot.append(self.AAAA[m]+self.AAAA[m+1])\n",
        "    for n in range(0,len(self.TTTTime)-1,2):\n",
        "      self.Time_tot.append(self.TTTTime[n]+self.TTTTime[n+1])\n",
        " \n",
        "    \n"
      ],
      "metadata": {
        "id": "CsqYbcGqd3S-"
      },
      "execution_count": 4,
      "outputs": []
    },
    {
      "cell_type": "code",
      "source": [
        "for i in range(0,(len(abv)),8):\n",
        "  s2=input_file(abv[i],abv[i+3],abv[i+2],abv[i+5],abv[i+4],abv[i+7],abv[i+6])\n"
      ],
      "metadata": {
        "id": "ooZ1l--K_kaP"
      },
      "execution_count": 5,
      "outputs": []
    },
    {
      "cell_type": "code",
      "source": [
        "s0.ID,s0.Time,s0.TTime,s0.TTTime,s0.TTTTime,s0.F,s0.A,s0.FF,s0.AA,s0.FFF,s0.AAA,s0.FFFF,s0.AAAA,s0.Time_tot,s0.Ftot,s0.Atot=0,0,0,0,0,0,0,0,0,0,0,0,0,0,0,0\n"
      ],
      "metadata": {
        "id": "0DIbJM4Lng07"
      },
      "execution_count": 80,
      "outputs": []
    },
    {
      "cell_type": "code",
      "source": [
        "s2.data_bin()"
      ],
      "metadata": {
        "id": "P1qXH6XntYGv"
      },
      "execution_count": null,
      "outputs": []
    },
    {
      "cell_type": "code",
      "source": [
        "s2.convertor()"
      ],
      "metadata": {
        "id": "utmIVlpqW51d"
      },
      "execution_count": 17,
      "outputs": []
    },
    {
      "cell_type": "code",
      "source": [
        "s2.total_join_data()"
      ],
      "metadata": {
        "id": "DGaslt95jO7x"
      },
      "execution_count": 21,
      "outputs": []
    },
    {
      "cell_type": "code",
      "source": [
        "class Spectroscopy_Data():\n",
        "  ID_,Time_,N_Strip,E_Fis,E_alfa,Time_abs,ID_beam,beam,number_counter,ID_corr,E_alfa_corr,Time_abs_corr,beam_time,Time_E_corr=[],[],[],[],[],[],[],[],[],[],[],[],[],[]\n",
        "\n",
        "  def __init__(self,ID,Time,Ftot,Atot):\n",
        "\n",
        "\n",
        "      self.ID=ID\n",
        "      self.ID_.append(ID)\n",
        "      self.Time=Time\n",
        "      value_time=int(Time,2)\n",
        "      self.Time_.append(value_time)\n",
        "      self.Ftot=Ftot\n",
        "      value1_Ftot=int(Ftot[0:4],2)\n",
        "      value2_Ftot=int(Ftot[5:16],2)\n",
        "      self.N_Strip.append(value1_Ftot)\n",
        "      self.E_Fis.append(value2_Ftot)\n",
        "      self.Atot=Atot\n",
        "      value1_E_alfa=int(Atot[5:16],2)\n",
        "      value2_E_alfa=int(Atot[7:16],2)\n",
        "      self.E_alfa.append(value1_E_alfa)\n",
        "      self.ID_beam.append(value2_E_alfa)\n",
        "      \n",
        "  def Time_setings(self):\n",
        "      w=0\n",
        "      c=-1\n",
        "      for ID_ in self.ID_:\n",
        "            c=c+1   \n",
        "            if (ID_ ==10):\n",
        "              w=w+1\n",
        "              value_temtime= self.Time_[c]+w*65536\n",
        "              self.Time_abs.append(value_temtime)\n",
        "\n",
        "            else:\n",
        "                self.Time_abs.append(self.Time_[c]+w*65536)\n",
        "\n",
        "  def flow_time_selection(self,ch_1,ch_2): \n",
        "      self.ch_1=ch_1\n",
        "      self.ch_2=ch_2\n",
        "      cc=-1           \n",
        "      for E_alfa_corr in range(len(self.E_alfa_corr)):\n",
        "        cc=cc+1\n",
        "        if (self.E_alfa_corr[cc]>=ch_1) and (self.E_alfa_corr[cc]<=ch_2):\n",
        "          self.number_counter.append(1)\n",
        "          self.Time_E_corr.append(self.Time_abs_corr[cc])\n",
        "              \n",
        "             \n",
        "        \n",
        "            \n",
        "  #def flow_time_determination(self,delta_t):\n",
        "    #self.delta_t=delta_t\n",
        "    #b=0\n",
        "    #ccc = -1\n",
        "    #Ncb = 0\n",
        "    #for beam in self.beam:\n",
        "      #ccc=ccc+1\n",
        "      #temp_time =self.Time_abs[ccc]\n",
        "      #if (beam==1)and(self.Time_abs[ccc]<temp_time+delta_t):\n",
        "       # b = b + 1\n",
        "        #Ncb=self.number_counter[ccc]++Ncb\n",
        "        #self.list_counter.append(Ncb)\n",
        "       \n",
        "      #else:\n",
        "       \n",
        "       #self.list_counter.append('ff')\n",
        "\n",
        "\n",
        "  def beam_corr(self):\n",
        "    \n",
        "    beam_count=-1\n",
        "    for ID_ in self.ID_:\n",
        "      beam_count=beam_count+1\n",
        "      if ( ID_==9):\n",
        "          self.beam.append(self.ID_beam[beam_count])\n",
        "          self.beam_time.append(self.Time_abs[beam_count])\n",
        "      \n",
        "      \n",
        "  def Data_final_corr(self):\n",
        "    b=-1\n",
        "    \n",
        "    for ID_ in self.ID_:\n",
        "      b=b+1\n",
        "      if (ID_==1):\n",
        "        self.ID_corr.append(self.ID_[b])\n",
        "        self.Time_abs_corr.append(self.Time_abs[b])\n",
        "        self.E_alfa_corr.append(self.E_alfa[b])\n",
        "      \n",
        "\n",
        "      \n",
        "\n",
        "\n",
        "  \n",
        "\n",
        "\n",
        "      \n",
        "\n",
        "\n",
        "\n"
      ],
      "metadata": {
        "id": "P1cUuU6Skrfo"
      },
      "execution_count": 28,
      "outputs": []
    },
    {
      "cell_type": "code",
      "source": [
        "for q in range(0,len(s2.ID),1):\n",
        "  zy=Spectroscopy_Data(s2.ID[q],s2.Time_tot[q],s2.Ftot[q],s2.Atot[q])\n"
      ],
      "metadata": {
        "id": "sgsW_q_QZpnW"
      },
      "execution_count": 29,
      "outputs": []
    },
    {
      "cell_type": "code",
      "source": [
        "zy.ID_,zy.Time_,zy.N_Strip,zy.E_Fis,zy.E_alfa,zy.Time_abs,zy.ID_beam,zy.beam,zy.Time_E_corr,zy.number_counter,zy.ID_corr,zy.E_alfa_corr,zy.Time_abs_corr=0,0,0,0,0,0,0,0,0,0,0,0,0"
      ],
      "metadata": {
        "id": "JMi-J18Ks8Ah"
      },
      "execution_count": 73,
      "outputs": []
    },
    {
      "cell_type": "code",
      "source": [
        "len(zy.number_counter)"
      ],
      "metadata": {
        "id": "80oE9jyTSd9S",
        "colab": {
          "base_uri": "https://localhost:8080/"
        },
        "outputId": "27205c85-a96b-4c6c-ef3d-df1a3e6eb0c6"
      },
      "execution_count": 48,
      "outputs": [
        {
          "output_type": "execute_result",
          "data": {
            "text/plain": [
              "9183"
            ]
          },
          "metadata": {},
          "execution_count": 48
        }
      ]
    },
    {
      "cell_type": "code",
      "source": [
        "zy.Time_setings()"
      ],
      "metadata": {
        "id": "A5ZzeugVmsLO"
      },
      "execution_count": 34,
      "outputs": []
    },
    {
      "cell_type": "code",
      "source": [
        "zy.beam_corr()"
      ],
      "metadata": {
        "id": "Sw0cH0ZnGUhx"
      },
      "execution_count": 36,
      "outputs": []
    },
    {
      "cell_type": "code",
      "source": [
        "zy.Data_final_corr()"
      ],
      "metadata": {
        "id": "BMhxcQCBPvOc"
      },
      "execution_count": 41,
      "outputs": []
    },
    {
      "cell_type": "code",
      "source": [
        "zy.flow_time_selection(1635,1675)"
      ],
      "metadata": {
        "id": "utJSd84BnEvF"
      },
      "execution_count": 43,
      "outputs": []
    },
    {
      "cell_type": "code",
      "source": [
        "len(zy.Time_E_corr)"
      ],
      "metadata": {
        "colab": {
          "base_uri": "https://localhost:8080/"
        },
        "id": "2SVTnpKUYkRT",
        "outputId": "2b1fabed-e20f-4fea-a11b-ac5c48b3fa9f"
      },
      "execution_count": 85,
      "outputs": [
        {
          "output_type": "execute_result",
          "data": {
            "text/plain": [
              "9183"
            ]
          },
          "metadata": {},
          "execution_count": 85
        }
      ]
    },
    {
      "cell_type": "code",
      "source": [
        "class data_tools():\n",
        "  number_time,Beam_Time,list_counter,bb=[],[],[],[]\n",
        "  \n",
        "  def __init__(self,*number_counter):\n",
        "    \n",
        "    self.number_counter=number_counter\n",
        "    self.number_time.append(number_counter)\n",
        "    #self.Time_of_E_corr=Time_of_E_corr\n",
        "  \n",
        "  def flow_time_determination_1(self,delta_t):\n",
        "    self.delta_t=delta_t\n",
        "\n",
        "  def flow_time_determination_2(self,*beam):\n",
        "    self.beam=beam\n",
        "    self.Beam_Time.append(beam)\n",
        "    \n",
        "        \n",
        "    \n",
        "    for b in range(len(self.Beam_Time[0][0])):\n",
        "\n",
        "      self.bb.append(b)\n",
        "      \n",
        "      if (self.Beam_Time[0][0][b]==1):\n",
        "        \n",
        "        temp_time =self.Beam_Time[0][1][b]+self.delta_t\n",
        "       \n",
        "        Ncb=sum( self.number_time[0][0][ccc] for ccc in range(len(self. number_time[0][0])) if  (self.Beam_Time[0][1][b]<self.number_time[0][1][ccc]) and (self.number_time[0][1][ccc]<=temp_time))\n",
        "        self.list_counter.append(Ncb)\n",
        "        #for number in self.nuber\n",
        "        #Ncb=self.number[ccc]++Ncb\n",
        "        #self.list_counter.append(Ncb)\n",
        "      \n",
        "      \n",
        "    \n",
        "     \n",
        "      \n"
      ],
      "metadata": {
        "id": "oINfitd-ae5o"
      },
      "execution_count": 139,
      "outputs": []
    },
    {
      "cell_type": "code",
      "source": [
        "for jj in range(0,len(zy.number_counter),1):\n",
        "  zyy1=data_tools(zy.number_counter[jj],zy.Time_E_corr[jj])"
      ],
      "metadata": {
        "id": "D6nxefGEYler"
      },
      "execution_count": 71,
      "outputs": []
    },
    {
      "cell_type": "code",
      "source": [
        "zyy=data_tools(zy.number_counter,zy.Time_E_corr)"
      ],
      "metadata": {
        "id": "-rHCDrQXy-aE"
      },
      "execution_count": null,
      "outputs": []
    },
    {
      "cell_type": "code",
      "source": [
        "number_counter=[1,1,1,1,1,1,1]\n",
        "Time_E_corr=[12,50,70,100,130,190,200]\n",
        "zyy=data_tools(number_counter,Time_E_corr)"
      ],
      "metadata": {
        "id": "EwFU4VcISgVw"
      },
      "execution_count": 143,
      "outputs": []
    },
    {
      "cell_type": "code",
      "source": [
        "zyy.number_time[0][1][6]"
      ],
      "metadata": {
        "colab": {
          "base_uri": "https://localhost:8080/"
        },
        "id": "ic9pFRuoTfV-",
        "outputId": "1009d72b-3c22-4ff8-a77c-72806245956e"
      },
      "execution_count": 156,
      "outputs": [
        {
          "output_type": "execute_result",
          "data": {
            "text/plain": [
              "200"
            ]
          },
          "metadata": {},
          "execution_count": 156
        }
      ]
    },
    {
      "cell_type": "code",
      "source": [
        "zyy.bb"
      ],
      "metadata": {
        "id": "I0VG6mlLrHiB",
        "outputId": "31265d50-e9a6-4a31-f03c-14aaefab103b",
        "colab": {
          "base_uri": "https://localhost:8080/"
        }
      },
      "execution_count": 161,
      "outputs": [
        {
          "output_type": "execute_result",
          "data": {
            "text/plain": [
              "[0, 1]"
            ]
          },
          "metadata": {},
          "execution_count": 161
        }
      ]
    },
    {
      "cell_type": "code",
      "source": [
        "zyy.number_time"
      ],
      "metadata": {
        "id": "A_UEe0rrzIiW"
      },
      "execution_count": 142,
      "outputs": []
    },
    {
      "cell_type": "code",
      "source": [
        "zyy.flow_time_determination_1(30)"
      ],
      "metadata": {
        "id": "ZA18mNsWaoR6"
      },
      "execution_count": 144,
      "outputs": []
    },
    {
      "cell_type": "code",
      "source": [
        "beam=[1,256]\n",
        "beam_time=[20,60]\n",
        "zyy.flow_time_determination_2(beam,beam_time)"
      ],
      "metadata": {
        "id": "GmOkSPGhV3Vp"
      },
      "execution_count": 145,
      "outputs": []
    },
    {
      "cell_type": "code",
      "source": [
        "len(zyy.Beam_Time[0][0])"
      ],
      "metadata": {
        "colab": {
          "base_uri": "https://localhost:8080/"
        },
        "id": "6h2HkCw8fP9r",
        "outputId": "a6afba3e-1791-49a7-eea9-bbff7214e6d5"
      },
      "execution_count": 159,
      "outputs": [
        {
          "output_type": "execute_result",
          "data": {
            "text/plain": [
              "2"
            ]
          },
          "metadata": {},
          "execution_count": 159
        }
      ]
    },
    {
      "cell_type": "code",
      "source": [
        "zyy.list_counter"
      ],
      "metadata": {
        "colab": {
          "base_uri": "https://localhost:8080/"
        },
        "id": "zk5NPre8q4ma",
        "outputId": "897486b0-2950-435c-852d-d00968dd7253"
      },
      "execution_count": 146,
      "outputs": [
        {
          "output_type": "execute_result",
          "data": {
            "text/plain": [
              "[1]"
            ]
          },
          "metadata": {},
          "execution_count": 146
        }
      ]
    },
    {
      "cell_type": "code",
      "source": [
        "zyy.number_time[1][1]"
      ],
      "metadata": {
        "colab": {
          "base_uri": "https://localhost:8080/"
        },
        "id": "zFn1og6rkT_R",
        "outputId": "e6f7d7e7-8f01-4593-8267-a8f6cc88184e"
      },
      "execution_count": 231,
      "outputs": [
        {
          "output_type": "execute_result",
          "data": {
            "text/plain": [
              "79992"
            ]
          },
          "metadata": {},
          "execution_count": 231
        }
      ]
    },
    {
      "cell_type": "code",
      "source": [
        "zyy.number_time,zyy1.beam_time,zyy1.list_counter,zyy1.bb=0,0,0,0"
      ],
      "metadata": {
        "id": "yze_pVowd_0l"
      },
      "execution_count": 419,
      "outputs": []
    },
    {
      "cell_type": "code",
      "source": [
        "a=[1,23,21,24,24,56,4]\n",
        "b=[1,2,3,4,5,6,7]\n",
        "c=sum(a[i] for i in range(len(a))if  b[i]>3 and b[i]<6)\n",
        "c\n"
      ],
      "metadata": {
        "id": "Y50F5830QeM-",
        "colab": {
          "base_uri": "https://localhost:8080/"
        },
        "outputId": "4181615e-76ff-4f0d-cf6a-248be192cf02"
      },
      "execution_count": 333,
      "outputs": [
        {
          "output_type": "execute_result",
          "data": {
            "text/plain": [
              "48"
            ]
          },
          "metadata": {},
          "execution_count": 333
        }
      ]
    },
    {
      "cell_type": "code",
      "source": [
        "a=[1,23,21,24,24,56,4]\n",
        "b=sum(a[i] for i in range(0,len(a),2))\n",
        "b\n"
      ],
      "metadata": {
        "id": "-hyn1PR-6guY",
        "colab": {
          "base_uri": "https://localhost:8080/"
        },
        "outputId": "ae79a67a-d7d0-4523-f71f-575504c10d62"
      },
      "execution_count": 348,
      "outputs": [
        {
          "output_type": "execute_result",
          "data": {
            "text/plain": [
              "50"
            ]
          },
          "metadata": {},
          "execution_count": 348
        }
      ]
    },
    {
      "cell_type": "code",
      "source": [
        "f1=zyy.list_counter"
      ],
      "metadata": {
        "id": "dI1THayuq1G1"
      },
      "execution_count": null,
      "outputs": []
    },
    {
      "cell_type": "code",
      "source": [
        "len(zyy1.list_counter)"
      ],
      "metadata": {
        "colab": {
          "base_uri": "https://localhost:8080/"
        },
        "id": "lZCD4lzC0f5x",
        "outputId": "31067a90-2b81-4412-d63c-c389797c567c"
      },
      "execution_count": null,
      "outputs": [
        {
          "output_type": "execute_result",
          "data": {
            "text/plain": [
              "1049172"
            ]
          },
          "metadata": {},
          "execution_count": 140
        }
      ]
    },
    {
      "cell_type": "code",
      "source": [
        "len(zyy1.beam_)"
      ],
      "metadata": {
        "colab": {
          "base_uri": "https://localhost:8080/"
        },
        "id": "vsqCKZK904iX",
        "outputId": "7fefb13f-06c5-4dd4-fb23-1ff5f2f8f706"
      },
      "execution_count": null,
      "outputs": [
        {
          "output_type": "execute_result",
          "data": {
            "text/plain": [
              "1049172"
            ]
          },
          "metadata": {},
          "execution_count": 141
        }
      ]
    },
    {
      "cell_type": "code",
      "source": [
        "len(zyy.beam_)"
      ],
      "metadata": {
        "colab": {
          "base_uri": "https://localhost:8080/"
        },
        "id": "XcLaGrW61LWo",
        "outputId": "54a7cf27-118e-4540-9ee5-8d76f53134a7"
      },
      "execution_count": null,
      "outputs": [
        {
          "output_type": "execute_result",
          "data": {
            "text/plain": [
              "5245860"
            ]
          },
          "metadata": {},
          "execution_count": 143
        }
      ]
    },
    {
      "cell_type": "code",
      "source": [
        "import numpy as np\n",
        "import pandas as pd\n",
        "data1 = pd.Series(zyy3.list_counter)\n",
        "data1"
      ],
      "metadata": {
        "colab": {
          "base_uri": "https://localhost:8080/"
        },
        "id": "uLTdesQiXLJM",
        "outputId": "db98c186-a04e-4bc0-cce9-7e15206e11c7"
      },
      "execution_count": null,
      "outputs": [
        {
          "output_type": "execute_result",
          "data": {
            "text/plain": [
              "0           0\n",
              "1           0\n",
              "2           0\n",
              "3           0\n",
              "4           0\n",
              "           ..\n",
              "25535047    0\n",
              "25535048    0\n",
              "25535049    0\n",
              "25535050    0\n",
              "25535051    0\n",
              "Length: 25535052, dtype: int64"
            ]
          },
          "metadata": {},
          "execution_count": 90
        }
      ]
    },
    {
      "cell_type": "code",
      "source": [
        "data1.sum()"
      ],
      "metadata": {
        "colab": {
          "base_uri": "https://localhost:8080/"
        },
        "id": "C2XLh1VA-btl",
        "outputId": "df437dba-2764-43b5-8028-609ecf59a71f"
      },
      "execution_count": null,
      "outputs": [
        {
          "output_type": "execute_result",
          "data": {
            "text/plain": [
              "0"
            ]
          },
          "metadata": {},
          "execution_count": 91
        }
      ]
    },
    {
      "cell_type": "code",
      "source": [
        "data_num_counts=pd.Series(zy.number_counter)\n",
        "data_num_counts.sum()"
      ],
      "metadata": {
        "colab": {
          "base_uri": "https://localhost:8080/"
        },
        "id": "MaQBDK0a70s_",
        "outputId": "9151f2a2-4986-4c10-ae35-d3b2a48e8752"
      },
      "execution_count": null,
      "outputs": [
        {
          "output_type": "execute_result",
          "data": {
            "text/plain": [
              "271864"
            ]
          },
          "metadata": {},
          "execution_count": 78
        }
      ]
    },
    {
      "cell_type": "code",
      "source": [
        "import numpy as np\n",
        "import pandas as pd\n",
        "data2 = pd.Series(zyy2.number)\n",
        "data2"
      ],
      "metadata": {
        "colab": {
          "base_uri": "https://localhost:8080/"
        },
        "id": "eZDmkpV_udJi",
        "outputId": "7b3091b2-81bb-40a6-a20e-895ed63adacc"
      },
      "execution_count": null,
      "outputs": [
        {
          "output_type": "execute_result",
          "data": {
            "text/plain": [
              "0          0\n",
              "1          0\n",
              "2          0\n",
              "3          0\n",
              "4          0\n",
              "          ..\n",
              "8511679    0\n",
              "8511680    0\n",
              "8511681    0\n",
              "8511682    0\n",
              "8511683    0\n",
              "Length: 8511684, dtype: int64"
            ]
          },
          "metadata": {},
          "execution_count": 85
        }
      ]
    },
    {
      "cell_type": "code",
      "source": [
        "data2.sum()"
      ],
      "metadata": {
        "colab": {
          "base_uri": "https://localhost:8080/"
        },
        "id": "hp_IXXOm9Rk_",
        "outputId": "ae789ad3-30ca-40a9-cc4a-0e26bb6c8d0a"
      },
      "execution_count": null,
      "outputs": [
        {
          "output_type": "execute_result",
          "data": {
            "text/plain": [
              "543728"
            ]
          },
          "metadata": {},
          "execution_count": 86
        }
      ]
    },
    {
      "cell_type": "code",
      "source": [
        "print(np.cov(data1,data1))"
      ],
      "metadata": {
        "colab": {
          "base_uri": "https://localhost:8080/"
        },
        "id": "TNFIG-ZaXdDL",
        "outputId": "e7ca6805-55c1-42bd-a10f-78b6b65df921"
      },
      "execution_count": null,
      "outputs": [
        {
          "output_type": "stream",
          "name": "stdout",
          "text": [
            "[[0. 0.]\n",
            " [0. 0.]]\n"
          ]
        }
      ]
    },
    {
      "cell_type": "code",
      "source": [
        "data1.sum()"
      ],
      "metadata": {
        "colab": {
          "base_uri": "https://localhost:8080/"
        },
        "id": "5T_txUMw7BvO",
        "outputId": "d51cce17-023b-43d6-b2ad-6dd2ccd153dc"
      },
      "execution_count": null,
      "outputs": [
        {
          "output_type": "execute_result",
          "data": {
            "text/plain": [
              "0"
            ]
          },
          "metadata": {},
          "execution_count": 76
        }
      ]
    },
    {
      "cell_type": "code",
      "source": [
        "len(zy.number_counter)"
      ],
      "metadata": {
        "colab": {
          "base_uri": "https://localhost:8080/"
        },
        "id": "84wOqv9DjhHR",
        "outputId": "6a927e07-a4a5-42f7-f208-36ea5d46a0eb"
      },
      "execution_count": null,
      "outputs": [
        {
          "output_type": "execute_result",
          "data": {
            "text/plain": [
              "123403"
            ]
          },
          "metadata": {},
          "execution_count": 18
        }
      ]
    },
    {
      "cell_type": "code",
      "source": [
        "def myFun(*args, **kwargs):\n",
        "    print( args)\n",
        "    print( kwargs)\n",
        "myFun('geeks', 'for', 'geeks', first=\"Geeks\", mid=\"for\", last=\"Geeks\")"
      ],
      "metadata": {
        "colab": {
          "base_uri": "https://localhost:8080/"
        },
        "id": "eUnv5g9bKdRv",
        "outputId": "f75752ad-6fd1-4ef7-b578-f58854fc1017"
      },
      "execution_count": 259,
      "outputs": [
        {
          "output_type": "stream",
          "name": "stdout",
          "text": [
            "('geeks', 'for', 'geeks')\n",
            "{'first': 'Geeks', 'mid': 'for', 'last': 'Geeks'}\n"
          ]
        }
      ]
    }
  ]
}